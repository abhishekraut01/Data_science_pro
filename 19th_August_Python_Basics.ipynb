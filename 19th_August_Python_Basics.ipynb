{
 "cells": [
  {
   "cell_type": "code",
   "execution_count": null,
   "id": "87e515bb",
   "metadata": {},
   "outputs": [],
   "source": [
    "#day1 assignment"
   ]
  },
  {
   "cell_type": "code",
   "execution_count": 2,
   "id": "c109d3f7",
   "metadata": {},
   "outputs": [
    {
     "name": "stdout",
     "output_type": "stream",
     "text": [
      "before swapping 1 2\n",
      "after swapping 2 1\n"
     ]
    }
   ],
   "source": [
    "#Declare two variables, `x` and `y`, and assign them integer values. Swap the\n",
    "#values of these variables without using any temporary variable.\n",
    "\n",
    "x =1 \n",
    "y = 2\n",
    "print(\"before swapping\" , x , y)\n",
    "x , y = y ,x\n",
    "\n",
    "print(\"after swapping\", x , y)\n",
    "\n"
   ]
  },
  {
   "cell_type": "code",
   "execution_count": 3,
   "id": "39411ebb",
   "metadata": {},
   "outputs": [
    {
     "name": "stdout",
     "output_type": "stream",
     "text": [
      "chal bhai length bata :  3\n",
      "chal ab breadth bata :  5\n",
      "Le Bhai 15 area hai tera\n"
     ]
    }
   ],
   "source": [
    "#Create a program that calculates the area of a rectangle. Take the length and\n",
    "#width as inputs from the user and store them in variables. Calculate and\n",
    "#display the area.\n",
    "\n",
    "length = int(input(\"chal bhai length bata :  \"))\n",
    "breadth = int(input(\"chal ab breadth bata :  \"))\n",
    "\n",
    "area = length * breadth\n",
    "print(f\"Le Bhai {area} area hai tera\")"
   ]
  },
  {
   "cell_type": "code",
   "execution_count": 4,
   "id": "ee6eb741",
   "metadata": {},
   "outputs": [
    {
     "name": "stdout",
     "output_type": "stream",
     "text": [
      "Bhai ek kam kar muze bahar ka temperature bata celsius mai : 27\n",
      "Le bhai 27.0 celsius 912.5999999999999 Fahrenheit hota hai \n"
     ]
    }
   ],
   "source": [
    "#Write a Python program that converts temperatures from Celsius to\n",
    "#Fahrenheit. Take the temperature in Celsius as input, store it in a variable,\n",
    "#convert it to Fahrenheit, and display the result.\n",
    "\n",
    "user_input = float(input(\"Bhai ek kam kar muze bahar ka temperature bata celsius mai : \"))\n",
    "convert_to_f = user_input*33.800\n",
    "\n",
    "print(f\"Le bhai {user_input} celsius {convert_to_f} Fahrenheit hota hai \")"
   ]
  },
  {
   "cell_type": "code",
   "execution_count": 6,
   "id": "0a77cb8d",
   "metadata": {},
   "outputs": [
    {
     "name": "stdout",
     "output_type": "stream",
     "text": [
      "bhai Apana Pyara sa name bata chal :abhi\n",
      "Bidu tere name mai 4 char hai \n"
     ]
    }
   ],
   "source": [
    "#Write a Python program that takes a string as input and prints the length of the string.\n",
    "\n",
    "user_input_str = str(input(\"bhai Apana Pyara sa name bata chal :\"))\n",
    "print(f\"Bidu tere name mai {len(user_input_str)} char hai \")"
   ]
  },
  {
   "cell_type": "code",
   "execution_count": 9,
   "id": "72050047",
   "metadata": {},
   "outputs": [
    {
     "name": "stdout",
     "output_type": "stream",
     "text": [
      "bhai kuch acha sa likh mai tuze usme kitane vowels hai bataunga :abhishek\n",
      "Bhai 3 vowels hai tere sentence mai\n"
     ]
    }
   ],
   "source": [
    "#Create a program that takes a sentence from the user and counts the number of vowels (a, e, i, o, u) in the string.\n",
    "\n",
    "user_input_str = str(input(\"bhai kuch acha sa likh mai tuze usme kitane vowels hai bataunga :\"))\n",
    "\n",
    "def vowels_count(sentence):\n",
    "    vowels_count = 0;\n",
    "    char = \"aeiouAEIOU\"\n",
    "    for i in user_input_str:\n",
    "        if i in char:\n",
    "            vowels_count +=1\n",
    "    return vowels_count\n",
    "\n",
    "result = vowels_count(user_input_str)\n",
    "\n",
    "print(f\"Bhai {result} vowels hai tere sentence mai\")"
   ]
  },
  {
   "cell_type": "code",
   "execution_count": 11,
   "id": "9440f157",
   "metadata": {},
   "outputs": [
    {
     "name": "stdout",
     "output_type": "stream",
     "text": [
      "Bhai kuch likh idhar usko ulta kar dega mai :qq\n",
      "le bhai tera reversed string : qq\n"
     ]
    }
   ],
   "source": [
    "#Given a string, reverse the order of characters using string slicing and print the reversed string\n",
    "\n",
    "user_input_str = str(input(\"Bhai kuch likh idhar usko ulta kar dega mai :\"))\n",
    "print(f\"le bhai tera reversed string : {user_input_str[::-1]}\")\n",
    "\n"
   ]
  },
  {
   "cell_type": "code",
   "execution_count": 19,
   "id": "4ff9e093",
   "metadata": {},
   "outputs": [
    {
     "name": "stdout",
     "output_type": "stream",
     "text": [
      "Bhai kuch likh idhar usko ulta kar dega mai :co oc\n"
     ]
    },
    {
     "data": {
      "text/plain": [
       "'co oc is palindrome'"
      ]
     },
     "execution_count": 19,
     "metadata": {},
     "output_type": "execute_result"
    }
   ],
   "source": [
    "#Write a program that takes a string as input and checks if it is a palindrome (reads the same forwards and backwards).\n",
    "\n",
    "def check_palindrome(user_input:str):\n",
    "    result = ''.join(user_input.split()).lower()\n",
    "    if(result == result[::-1]):\n",
    "        return f\"{user_input} is palindrome\"\n",
    "    else:\n",
    "        return f\"{user_input} is not a palindrome\"\n",
    "    \n",
    "    \n",
    "user_input = str(input(\"Bhai kuch likh idhar usko ulta kar dega mai :\"))\n",
    "check_palindrome(user_input)"
   ]
  },
  {
   "cell_type": "code",
   "execution_count": 32,
   "id": "f9c580c9",
   "metadata": {},
   "outputs": [
    {
     "data": {
      "text/plain": [
       "True"
      ]
     },
     "execution_count": 32,
     "metadata": {},
     "output_type": "execute_result"
    }
   ],
   "source": [
    "string = \"abhishek raut\"\n",
    "substring = \"raut\"\n",
    "substring in string "
   ]
  },
  {
   "cell_type": "code",
   "execution_count": null,
   "id": "aab84958",
   "metadata": {},
   "outputs": [],
   "source": []
  }
 ],
 "metadata": {
  "kernelspec": {
   "display_name": "Python 3 (ipykernel)",
   "language": "python",
   "name": "python3"
  },
  "language_info": {
   "codemirror_mode": {
    "name": "ipython",
    "version": 3
   },
   "file_extension": ".py",
   "mimetype": "text/x-python",
   "name": "python",
   "nbconvert_exporter": "python",
   "pygments_lexer": "ipython3",
   "version": "3.11.5"
  }
 },
 "nbformat": 4,
 "nbformat_minor": 5
}
