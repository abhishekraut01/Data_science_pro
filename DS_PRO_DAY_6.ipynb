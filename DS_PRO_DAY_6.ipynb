{
 "cells": [
  {
   "cell_type": "code",
   "execution_count": 12,
   "id": "89ab7653",
   "metadata": {},
   "outputs": [],
   "source": [
    "def valPassword(pwd:str):\n",
    "    if 8<= len(pwd) <= 32 and pwd[0].isalpha() and all(char not in pwd for char in [\" \",\"'\",\"/\",'\"','\\\\' ]):\n",
    "         return  \"valid password\"\n",
    "    else:\n",
    "        return   \"invalid password\"\n",
    "        "
   ]
  },
  {
   "cell_type": "code",
   "execution_count": 15,
   "id": "419792ec",
   "metadata": {},
   "outputs": [
    {
     "data": {
      "text/plain": [
       "'invalid password'"
      ]
     },
     "execution_count": 15,
     "metadata": {},
     "output_type": "execute_result"
    }
   ],
   "source": [
    "valPassword('ab2hiA')"
   ]
  },
  {
   "cell_type": "code",
   "execution_count": 16,
   "id": "bb9ff463",
   "metadata": {},
   "outputs": [],
   "source": [
    "#Pyhton functions arguments"
   ]
  },
  {
   "cell_type": "code",
   "execution_count": 17,
   "id": "8cb21c42",
   "metadata": {},
   "outputs": [],
   "source": [
    "#positional arguments\n",
    "\n",
    "def adnumbers(a,b):\n",
    "    sum = a+b\n",
    "    print(\"sum :\",sum)"
   ]
  },
  {
   "cell_type": "code",
   "execution_count": 19,
   "id": "606afe38",
   "metadata": {},
   "outputs": [
    {
     "name": "stdout",
     "output_type": "stream",
     "text": [
      "sum : 5\n"
     ]
    }
   ],
   "source": [
    "adnumbers(2,3)"
   ]
  },
  {
   "cell_type": "code",
   "execution_count": 20,
   "id": "c5886c2c",
   "metadata": {},
   "outputs": [
    {
     "name": "stdout",
     "output_type": "stream",
     "text": [
      "my name is  abhishek\n"
     ]
    }
   ],
   "source": [
    "def ename(name):\n",
    "    print(\"my name is \",name)\n",
    "    \n",
    "ename(\"abhishek\")"
   ]
  },
  {
   "cell_type": "code",
   "execution_count": 22,
   "id": "4d0d93ac",
   "metadata": {},
   "outputs": [
    {
     "name": "stdout",
     "output_type": "stream",
     "text": [
      "sum : 18\n"
     ]
    }
   ],
   "source": [
    "def addnumbers(a=9,b=9):      #default arguments\n",
    "    sum = a+b\n",
    "    print(\"sum :\",sum)\n",
    "\n",
    "addnumbers()"
   ]
  },
  {
   "cell_type": "code",
   "execution_count": 23,
   "id": "5a72de56",
   "metadata": {},
   "outputs": [],
   "source": [
    "#keyword arguments"
   ]
  },
  {
   "cell_type": "code",
   "execution_count": 26,
   "id": "c346e9fe",
   "metadata": {},
   "outputs": [
    {
     "name": "stdout",
     "output_type": "stream",
     "text": [
      "first name : abhishek\n",
      "last name : Raut\n"
     ]
    }
   ],
   "source": [
    "def display(fname,lname):\n",
    "    print(\"first name :\",fname)\n",
    "    print(\"last name :\",lname)\n",
    "    \n",
    "display(lname = \"Raut\",fname = \"abhishek\")"
   ]
  },
  {
   "cell_type": "markdown",
   "id": "c2a904aa",
   "metadata": {},
   "source": [
    "# *args and **keyword args"
   ]
  },
  {
   "cell_type": "code",
   "execution_count": 29,
   "id": "ceda54ed",
   "metadata": {},
   "outputs": [],
   "source": [
    "def find_num(*numbers):\n",
    "    result = 0\n",
    "    \n",
    "    for num in numbers:\n",
    "        result = result + num\n",
    "    print(\"sum :\",result)"
   ]
  },
  {
   "cell_type": "code",
   "execution_count": 30,
   "id": "d37dea09",
   "metadata": {},
   "outputs": [
    {
     "name": "stdout",
     "output_type": "stream",
     "text": [
      "sum : 0\n"
     ]
    }
   ],
   "source": [
    "find_num()"
   ]
  },
  {
   "cell_type": "code",
   "execution_count": 32,
   "id": "704ec264",
   "metadata": {},
   "outputs": [
    {
     "name": "stdout",
     "output_type": "stream",
     "text": [
      "sum : 21\n"
     ]
    }
   ],
   "source": [
    "find_num(1,2,3,4,5,6)"
   ]
  },
  {
   "cell_type": "code",
   "execution_count": 62,
   "id": "4b5c6594",
   "metadata": {},
   "outputs": [],
   "source": [
    "def intro(**data):\n",
    "    print(\"The Data type of arguments\",type(data))\n",
    "    \n",
    "    for key,value in data.items():\n",
    "        print(key,':',value)"
   ]
  },
  {
   "cell_type": "code",
   "execution_count": 56,
   "id": "3e56d58e",
   "metadata": {},
   "outputs": [],
   "source": [
    "z = {\"name\":\"abhi\",\"love\":'coding'}"
   ]
  },
  {
   "cell_type": "code",
   "execution_count": 57,
   "id": "aed3edfd",
   "metadata": {},
   "outputs": [
    {
     "data": {
      "text/plain": [
       "dict_items([('name', 'abhi'), ('love', 'coding')])"
      ]
     },
     "execution_count": 57,
     "metadata": {},
     "output_type": "execute_result"
    }
   ],
   "source": [
    "z.items()"
   ]
  },
  {
   "cell_type": "code",
   "execution_count": 58,
   "id": "ddedb916",
   "metadata": {},
   "outputs": [
    {
     "name": "stdout",
     "output_type": "stream",
     "text": [
      "name : abhi\n",
      "love : coding\n"
     ]
    }
   ],
   "source": [
    "for key,values in z.items():\n",
    "    print(key,\":\",values)"
   ]
  },
  {
   "cell_type": "code",
   "execution_count": 63,
   "id": "ca382ae8",
   "metadata": {},
   "outputs": [
    {
     "name": "stdout",
     "output_type": "stream",
     "text": [
      "The Data type of arguments <class 'dict'>\n",
      "firstname : pw\n",
      "lname : skills\n"
     ]
    }
   ],
   "source": [
    "intro(firstname = \"pw\", lname=\"skills\")"
   ]
  },
  {
   "cell_type": "code",
   "execution_count": 64,
   "id": "00b766c8",
   "metadata": {},
   "outputs": [],
   "source": [
    "def simple(*t):\n",
    "    print(t)"
   ]
  },
  {
   "cell_type": "code",
   "execution_count": 65,
   "id": "1a809d4a",
   "metadata": {},
   "outputs": [
    {
     "name": "stdout",
     "output_type": "stream",
     "text": [
      "(12, 23, 3, 4)\n"
     ]
    }
   ],
   "source": [
    "simple(12,23,3,4)"
   ]
  },
  {
   "cell_type": "code",
   "execution_count": 69,
   "id": "615447b3",
   "metadata": {},
   "outputs": [],
   "source": [
    "def simple1(**L):\n",
    "    print(L)\n"
   ]
  },
  {
   "cell_type": "code",
   "execution_count": 72,
   "id": "34f34c07",
   "metadata": {},
   "outputs": [
    {
     "name": "stdout",
     "output_type": "stream",
     "text": [
      "{'name': 'abhishek'}\n"
     ]
    }
   ],
   "source": [
    "simple1(name = \"abhishek\")"
   ]
  },
  {
   "cell_type": "markdown",
   "id": "f80d9602",
   "metadata": {},
   "source": [
    "# lambda dunction"
   ]
  },
  {
   "cell_type": "code",
   "execution_count": 77,
   "id": "27086ba0",
   "metadata": {},
   "outputs": [],
   "source": [
    "x =lambda :print(\"hello world\")"
   ]
  },
  {
   "cell_type": "code",
   "execution_count": 79,
   "id": "3d79bd7e",
   "metadata": {},
   "outputs": [
    {
     "name": "stdout",
     "output_type": "stream",
     "text": [
      "hello world\n"
     ]
    }
   ],
   "source": [
    "x()"
   ]
  },
  {
   "cell_type": "code",
   "execution_count": 83,
   "id": "8659d49b",
   "metadata": {},
   "outputs": [],
   "source": [
    "adding = lambda a,b : a+b"
   ]
  },
  {
   "cell_type": "code",
   "execution_count": 84,
   "id": "4efe4149",
   "metadata": {},
   "outputs": [
    {
     "data": {
      "text/plain": [
       "5"
      ]
     },
     "execution_count": 84,
     "metadata": {},
     "output_type": "execute_result"
    }
   ],
   "source": [
    "adding(2,3)"
   ]
  },
  {
   "cell_type": "code",
   "execution_count": 86,
   "id": "d49669b7",
   "metadata": {
    "scrolled": true
   },
   "outputs": [
    {
     "name": "stdout",
     "output_type": "stream",
     "text": [
      "Enter the first number :2\n",
      "Enter the second number :2\n",
      "(4, 4)\n"
     ]
    }
   ],
   "source": [
    "a = int(input(\"Enter the first number :\"))\n",
    "b = int(input(\"Enter the second number :\"))\n",
    "square = lambda a,b:(a**2,b**2)\n",
    "print(square(a,b))"
   ]
  },
  {
   "cell_type": "code",
   "execution_count": 94,
   "id": "a1eab912",
   "metadata": {},
   "outputs": [],
   "source": [
    "z = lambda n: \"true\" if n%2 == 0 else \"false\""
   ]
  },
  {
   "cell_type": "code",
   "execution_count": 96,
   "id": "3b2affa4",
   "metadata": {},
   "outputs": [
    {
     "data": {
      "text/plain": [
       "'false'"
      ]
     },
     "execution_count": 96,
     "metadata": {},
     "output_type": "execute_result"
    }
   ],
   "source": [
    "z(3)"
   ]
  },
  {
   "cell_type": "code",
   "execution_count": 97,
   "id": "c14b5360",
   "metadata": {},
   "outputs": [],
   "source": [
    "greatest_number = lambda a,b: a if a>b else b\n"
   ]
  },
  {
   "cell_type": "code",
   "execution_count": 98,
   "id": "8e3bb4d5",
   "metadata": {},
   "outputs": [
    {
     "data": {
      "text/plain": [
       "3"
      ]
     },
     "execution_count": 98,
     "metadata": {},
     "output_type": "execute_result"
    }
   ],
   "source": [
    "greatest_number(3,2)"
   ]
  },
  {
   "cell_type": "code",
   "execution_count": 105,
   "id": "1f0eebc3",
   "metadata": {},
   "outputs": [],
   "source": [
    "product =[\n",
    "    {'name':\"product1\",'price':50},\n",
    "    {'name':\"product2\",'price':30},\n",
    "    {'name':\"product3\",'price':60},\n",
    "    {'name':\"product4\",'price':90}\n",
    "]"
   ]
  },
  {
   "cell_type": "code",
   "execution_count": 106,
   "id": "b52a90c1",
   "metadata": {},
   "outputs": [],
   "source": [
    "#sorted\n",
    "sorted_products = sorted(product,key = lambda x:x['price'])"
   ]
  },
  {
   "cell_type": "code",
   "execution_count": 107,
   "id": "240fb617",
   "metadata": {},
   "outputs": [
    {
     "name": "stdout",
     "output_type": "stream",
     "text": [
      "{'name': 'product2', 'price': 30}\n",
      "{'name': 'product1', 'price': 50}\n",
      "{'name': 'product3', 'price': 60}\n",
      "{'name': 'product4', 'price': 90}\n"
     ]
    }
   ],
   "source": [
    "for i in sorted_products:\n",
    "    print(i)"
   ]
  },
  {
   "cell_type": "code",
   "execution_count": null,
   "id": "d14074d7",
   "metadata": {},
   "outputs": [],
   "source": []
  }
 ],
 "metadata": {
  "kernelspec": {
   "display_name": "Python 3 (ipykernel)",
   "language": "python",
   "name": "python3"
  },
  "language_info": {
   "codemirror_mode": {
    "name": "ipython",
    "version": 3
   },
   "file_extension": ".py",
   "mimetype": "text/x-python",
   "name": "python",
   "nbconvert_exporter": "python",
   "pygments_lexer": "ipython3",
   "version": "3.11.5"
  }
 },
 "nbformat": 4,
 "nbformat_minor": 5
}
