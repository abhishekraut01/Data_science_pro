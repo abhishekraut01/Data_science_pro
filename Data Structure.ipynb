{
 "cells": [
  {
   "cell_type": "markdown",
   "id": "1b5fbc9b",
   "metadata": {},
   "source": [
    "# Python Specific Data Structures:"
   ]
  },
  {
   "cell_type": "code",
   "execution_count": 1,
   "id": "87193ae4",
   "metadata": {},
   "outputs": [
    {
     "data": {
      "text/plain": [
       "[1, 2, 3, 'abhishek', 33.4]"
      ]
     },
     "execution_count": 1,
     "metadata": {},
     "output_type": "execute_result"
    }
   ],
   "source": [
    "#list data structure\n",
    "demo_list = [1,2,3,\"abhishek\",33.4]\n",
    "demo_list"
   ]
  },
  {
   "cell_type": "code",
   "execution_count": 4,
   "id": "4b8e7f63",
   "metadata": {},
   "outputs": [],
   "source": [
    "#Delete operation\n",
    "del(demo_list[2])"
   ]
  },
  {
   "cell_type": "code",
   "execution_count": 5,
   "id": "64e2b6d3",
   "metadata": {},
   "outputs": [
    {
     "data": {
      "text/plain": [
       "[1, 3, 33.4]"
      ]
     },
     "execution_count": 5,
     "metadata": {},
     "output_type": "execute_result"
    }
   ],
   "source": [
    "demo_list"
   ]
  },
  {
   "cell_type": "code",
   "execution_count": 14,
   "id": "5d5f355e",
   "metadata": {},
   "outputs": [],
   "source": [
    "del(demo_list[3])"
   ]
  },
  {
   "cell_type": "code",
   "execution_count": 6,
   "id": "c322fea2",
   "metadata": {},
   "outputs": [
    {
     "data": {
      "text/plain": [
       "[1, 3, 33.4]"
      ]
     },
     "execution_count": 6,
     "metadata": {},
     "output_type": "execute_result"
    }
   ],
   "source": [
    "demo_list"
   ]
  },
  {
   "cell_type": "code",
   "execution_count": 16,
   "id": "de3676a9",
   "metadata": {},
   "outputs": [],
   "source": [
    "demo_list.append(\"hello\") #append operation add the element at the end of the list"
   ]
  },
  {
   "cell_type": "code",
   "execution_count": 17,
   "id": "c77a3001",
   "metadata": {},
   "outputs": [
    {
     "data": {
      "text/plain": [
       "[1, 3, 'abhishek', 'hello']"
      ]
     },
     "execution_count": 17,
     "metadata": {},
     "output_type": "execute_result"
    }
   ],
   "source": [
    "demo_list"
   ]
  },
  {
   "cell_type": "code",
   "execution_count": 19,
   "id": "81086f58",
   "metadata": {},
   "outputs": [],
   "source": [
    "demo_list.append(\"bhabhi2\")"
   ]
  },
  {
   "cell_type": "code",
   "execution_count": 20,
   "id": "e9e732d0",
   "metadata": {},
   "outputs": [
    {
     "data": {
      "text/plain": [
       "[1, 3, 'abhishek', 'hello', 'bhabhi2']"
      ]
     },
     "execution_count": 20,
     "metadata": {},
     "output_type": "execute_result"
    }
   ],
   "source": [
    "demo_list"
   ]
  },
  {
   "cell_type": "code",
   "execution_count": 28,
   "id": "df2e8b9b",
   "metadata": {},
   "outputs": [],
   "source": [
    "#if we want to add more than one element to the list then we can use the method named as extend\n",
    "demo_list_2 = list(\"1,2\")\n",
    "demo_list.extend(demo_list_2)"
   ]
  },
  {
   "cell_type": "code",
   "execution_count": 29,
   "id": "857b9d9d",
   "metadata": {},
   "outputs": [
    {
     "data": {
      "text/plain": [
       "[1,\n",
       " 3,\n",
       " 'abhishek',\n",
       " 'hello',\n",
       " 'bhabhi2',\n",
       " '1',\n",
       " ',',\n",
       " '2',\n",
       " ',',\n",
       " '3',\n",
       " ',',\n",
       " '4',\n",
       " ',',\n",
       " '5',\n",
       " ',',\n",
       " '6',\n",
       " '1',\n",
       " ',',\n",
       " '2',\n",
       " '1',\n",
       " ',',\n",
       " '2',\n",
       " '1',\n",
       " ',',\n",
       " '2']"
      ]
     },
     "execution_count": 29,
     "metadata": {},
     "output_type": "execute_result"
    }
   ],
   "source": [
    "demo_list"
   ]
  },
  {
   "cell_type": "code",
   "execution_count": 33,
   "id": "bf27de43",
   "metadata": {},
   "outputs": [],
   "source": [
    "del(demo_list[4:10])"
   ]
  },
  {
   "cell_type": "code",
   "execution_count": 34,
   "id": "b3061f22",
   "metadata": {},
   "outputs": [
    {
     "data": {
      "text/plain": [
       "[1, 3, 'abhishek', 'hello', '1', ',', '2']"
      ]
     },
     "execution_count": 34,
     "metadata": {},
     "output_type": "execute_result"
    }
   ],
   "source": [
    "demo_list"
   ]
  },
  {
   "cell_type": "code",
   "execution_count": 35,
   "id": "e05d4426",
   "metadata": {},
   "outputs": [],
   "source": [
    "del(demo_list[4])"
   ]
  },
  {
   "cell_type": "code",
   "execution_count": 36,
   "id": "0e2a4e88",
   "metadata": {},
   "outputs": [
    {
     "data": {
      "text/plain": [
       "[1, 3, 'abhishek', 'hello', ',', '2']"
      ]
     },
     "execution_count": 36,
     "metadata": {},
     "output_type": "execute_result"
    }
   ],
   "source": [
    "demo_list"
   ]
  },
  {
   "cell_type": "code",
   "execution_count": 37,
   "id": "ff87d1da",
   "metadata": {},
   "outputs": [],
   "source": [
    "del(demo_list[5])"
   ]
  },
  {
   "cell_type": "code",
   "execution_count": 38,
   "id": "220476a9",
   "metadata": {},
   "outputs": [
    {
     "data": {
      "text/plain": [
       "[1, 3, 'abhishek', 'hello', ',']"
      ]
     },
     "execution_count": 38,
     "metadata": {},
     "output_type": "execute_result"
    }
   ],
   "source": [
    "demo_list"
   ]
  },
  {
   "cell_type": "code",
   "execution_count": 42,
   "id": "19d6a4cd",
   "metadata": {},
   "outputs": [],
   "source": [
    "#to add something at specific index then use insert method\n",
    "demo_list.insert(4,\"bhabhi2\")"
   ]
  },
  {
   "cell_type": "code",
   "execution_count": 43,
   "id": "a1cf2f15",
   "metadata": {},
   "outputs": [
    {
     "data": {
      "text/plain": [
       "[1, 3, 'abhishek', 'hello', 'bhabhi2', ',']"
      ]
     },
     "execution_count": 43,
     "metadata": {},
     "output_type": "execute_result"
    }
   ],
   "source": [
    "demo_list"
   ]
  },
  {
   "cell_type": "code",
   "execution_count": 44,
   "id": "c668c806",
   "metadata": {},
   "outputs": [],
   "source": [
    "del(demo_list)"
   ]
  },
  {
   "cell_type": "code",
   "execution_count": 15,
   "id": "b5d4c79f",
   "metadata": {},
   "outputs": [],
   "source": [
    "demo_list = (\"abhishek\", 3 ,4, 5 )\n",
    "demo_list_2 = [\"chinu\",1,2,3,55.55]"
   ]
  },
  {
   "cell_type": "code",
   "execution_count": 49,
   "id": "d739c5b8",
   "metadata": {},
   "outputs": [
    {
     "data": {
      "text/plain": [
       "('abhishek', 3, 4, 5)"
      ]
     },
     "execution_count": 49,
     "metadata": {},
     "output_type": "execute_result"
    }
   ],
   "source": [
    "demo_list"
   ]
  },
  {
   "cell_type": "code",
   "execution_count": 50,
   "id": "20b8ead7",
   "metadata": {},
   "outputs": [
    {
     "data": {
      "text/plain": [
       "['chinu', 1, 2, 3, 55.55]"
      ]
     },
     "execution_count": 50,
     "metadata": {},
     "output_type": "execute_result"
    }
   ],
   "source": [
    "demo_list_2"
   ]
  },
  {
   "cell_type": "code",
   "execution_count": 51,
   "id": "12edd81a",
   "metadata": {},
   "outputs": [
    {
     "data": {
      "text/plain": [
       "tuple"
      ]
     },
     "execution_count": 51,
     "metadata": {},
     "output_type": "execute_result"
    }
   ],
   "source": [
    "type(demo_list)"
   ]
  },
  {
   "cell_type": "code",
   "execution_count": 17,
   "id": "797dfcbd",
   "metadata": {},
   "outputs": [],
   "source": [
    "demo_list = list(demo_list)"
   ]
  },
  {
   "cell_type": "code",
   "execution_count": 53,
   "id": "ac876b21",
   "metadata": {},
   "outputs": [
    {
     "data": {
      "text/plain": [
       "['abhishek', 3, 4, 5]"
      ]
     },
     "execution_count": 53,
     "metadata": {},
     "output_type": "execute_result"
    }
   ],
   "source": [
    "demo_list"
   ]
  },
  {
   "cell_type": "code",
   "execution_count": 54,
   "id": "1cb18714",
   "metadata": {},
   "outputs": [
    {
     "data": {
      "text/plain": [
       "list"
      ]
     },
     "execution_count": 54,
     "metadata": {},
     "output_type": "execute_result"
    }
   ],
   "source": [
    "type(demo_list)"
   ]
  },
  {
   "cell_type": "code",
   "execution_count": 55,
   "id": "7b476f78",
   "metadata": {},
   "outputs": [],
   "source": [
    "demo_list.append(\"chinu\")"
   ]
  },
  {
   "cell_type": "code",
   "execution_count": 56,
   "id": "7b7d26e9",
   "metadata": {},
   "outputs": [
    {
     "data": {
      "text/plain": [
       "['abhishek', 3, 4, 5, 'chinu']"
      ]
     },
     "execution_count": 56,
     "metadata": {},
     "output_type": "execute_result"
    }
   ],
   "source": [
    "demo_list"
   ]
  },
  {
   "cell_type": "code",
   "execution_count": 57,
   "id": "b7d1322e",
   "metadata": {},
   "outputs": [],
   "source": [
    "demo_list.extend(demo_list_2)"
   ]
  },
  {
   "cell_type": "code",
   "execution_count": 58,
   "id": "e184e188",
   "metadata": {},
   "outputs": [
    {
     "data": {
      "text/plain": [
       "['abhishek', 3, 4, 5, 'chinu', 'chinu', 1, 2, 3, 55.55]"
      ]
     },
     "execution_count": 58,
     "metadata": {},
     "output_type": "execute_result"
    }
   ],
   "source": [
    "demo_list"
   ]
  },
  {
   "cell_type": "code",
   "execution_count": 59,
   "id": "01d814e8",
   "metadata": {},
   "outputs": [],
   "source": [
    "demo_list.insert(5,\"love\")"
   ]
  },
  {
   "cell_type": "code",
   "execution_count": 60,
   "id": "046752a8",
   "metadata": {},
   "outputs": [
    {
     "data": {
      "text/plain": [
       "['abhishek', 3, 4, 5, 'chinu', 'love', 'chinu', 1, 2, 3, 55.55]"
      ]
     },
     "execution_count": 60,
     "metadata": {},
     "output_type": "execute_result"
    }
   ],
   "source": [
    "demo_list"
   ]
  },
  {
   "cell_type": "code",
   "execution_count": 62,
   "id": "41d68003",
   "metadata": {},
   "outputs": [
    {
     "data": {
      "text/plain": [
       "3"
      ]
     },
     "execution_count": 62,
     "metadata": {},
     "output_type": "execute_result"
    }
   ],
   "source": [
    "demo_list.pop(1)"
   ]
  },
  {
   "cell_type": "code",
   "execution_count": 63,
   "id": "d2b3544b",
   "metadata": {},
   "outputs": [
    {
     "data": {
      "text/plain": [
       "['abhishek', 4, 5, 'chinu', 'love', 'chinu', 1, 2, 3, 55.55]"
      ]
     },
     "execution_count": 63,
     "metadata": {},
     "output_type": "execute_result"
    }
   ],
   "source": [
    "demo_list"
   ]
  },
  {
   "cell_type": "code",
   "execution_count": 22,
   "id": "8a9c6023",
   "metadata": {},
   "outputs": [
    {
     "data": {
      "text/plain": [
       "'abhishek'"
      ]
     },
     "execution_count": 22,
     "metadata": {},
     "output_type": "execute_result"
    }
   ],
   "source": [
    "demo_list.pop()"
   ]
  },
  {
   "cell_type": "code",
   "execution_count": 16,
   "id": "596b967f",
   "metadata": {},
   "outputs": [
    {
     "data": {
      "text/plain": [
       "('abhishek', 3, 4, 5)"
      ]
     },
     "execution_count": 16,
     "metadata": {},
     "output_type": "execute_result"
    }
   ],
   "source": [
    "demo_list"
   ]
  },
  {
   "cell_type": "code",
   "execution_count": 11,
   "id": "811383f2",
   "metadata": {},
   "outputs": [],
   "source": [
    "demo_list.remove(1)"
   ]
  },
  {
   "cell_type": "code",
   "execution_count": 23,
   "id": "cbd559a0",
   "metadata": {},
   "outputs": [
    {
     "data": {
      "text/plain": [
       "[5, 4, 3]"
      ]
     },
     "execution_count": 23,
     "metadata": {},
     "output_type": "execute_result"
    }
   ],
   "source": [
    "demo_list"
   ]
  },
  {
   "cell_type": "code",
   "execution_count": 24,
   "id": "1849393a",
   "metadata": {},
   "outputs": [],
   "source": [
    "demo_list.reverse()"
   ]
  },
  {
   "cell_type": "code",
   "execution_count": 25,
   "id": "77efe6b6",
   "metadata": {},
   "outputs": [
    {
     "data": {
      "text/plain": [
       "[3, 4, 5]"
      ]
     },
     "execution_count": 25,
     "metadata": {},
     "output_type": "execute_result"
    }
   ],
   "source": [
    "demo_list"
   ]
  },
  {
   "cell_type": "code",
   "execution_count": 26,
   "id": "a779b7b5",
   "metadata": {},
   "outputs": [],
   "source": [
    "demo_list.sort()"
   ]
  },
  {
   "cell_type": "code",
   "execution_count": 27,
   "id": "9c343d2f",
   "metadata": {},
   "outputs": [
    {
     "data": {
      "text/plain": [
       "[3, 4, 5]"
      ]
     },
     "execution_count": 27,
     "metadata": {},
     "output_type": "execute_result"
    }
   ],
   "source": [
    "demo_list"
   ]
  },
  {
   "cell_type": "code",
   "execution_count": 28,
   "id": "e8562232",
   "metadata": {},
   "outputs": [],
   "source": [
    "x='computer'"
   ]
  },
  {
   "cell_type": "code",
   "execution_count": 29,
   "id": "6b80af2e",
   "metadata": {},
   "outputs": [
    {
     "data": {
      "text/plain": [
       "'omp'"
      ]
     },
     "execution_count": 29,
     "metadata": {},
     "output_type": "execute_result"
    }
   ],
   "source": [
    "x[1:4]"
   ]
  },
  {
   "cell_type": "code",
   "execution_count": 92,
   "id": "69e51277",
   "metadata": {},
   "outputs": [
    {
     "data": {
      "text/plain": [
       "'retupmoc'"
      ]
     },
     "execution_count": 92,
     "metadata": {},
     "output_type": "execute_result"
    }
   ],
   "source": [
    "x[::-1] "
   ]
  },
  {
   "cell_type": "code",
   "execution_count": 95,
   "id": "6d78c762",
   "metadata": {},
   "outputs": [
    {
     "data": {
      "text/plain": [
       "'rtpo'"
      ]
     },
     "execution_count": 95,
     "metadata": {},
     "output_type": "execute_result"
    }
   ],
   "source": [
    "x[::-2] "
   ]
  },
  {
   "cell_type": "code",
   "execution_count": 96,
   "id": "6157ab72",
   "metadata": {},
   "outputs": [
    {
     "data": {
      "text/plain": [
       "'comput'"
      ]
     },
     "execution_count": 96,
     "metadata": {},
     "output_type": "execute_result"
    }
   ],
   "source": [
    "x[:-2] "
   ]
  },
  {
   "cell_type": "code",
   "execution_count": 99,
   "id": "7510cd99",
   "metadata": {},
   "outputs": [
    {
     "data": {
      "text/plain": [
       "tuple"
      ]
     },
     "execution_count": 99,
     "metadata": {},
     "output_type": "execute_result"
    }
   ],
   "source": [
    "list1=(11,12,13,14)\n",
    "type(list1)"
   ]
  },
  {
   "cell_type": "code",
   "execution_count": 105,
   "id": "4cfee057",
   "metadata": {},
   "outputs": [
    {
     "data": {
      "text/plain": [
       "(13, 14)"
      ]
     },
     "execution_count": 105,
     "metadata": {},
     "output_type": "execute_result"
    }
   ],
   "source": [
    "list1[2:4]"
   ]
  },
  {
   "cell_type": "code",
   "execution_count": 106,
   "id": "24bfca07",
   "metadata": {},
   "outputs": [
    {
     "name": "stdout",
     "output_type": "stream",
     "text": [
      "slice(None, 3, None)\n"
     ]
    }
   ],
   "source": [
    "print(slice(3)) "
   ]
  },
  {
   "cell_type": "code",
   "execution_count": 115,
   "id": "781a1a90",
   "metadata": {},
   "outputs": [],
   "source": [
    "x = \"abhishek\""
   ]
  },
  {
   "cell_type": "code",
   "execution_count": 116,
   "id": "b85ae572",
   "metadata": {},
   "outputs": [
    {
     "data": {
      "text/plain": [
       "'abhishek'"
      ]
     },
     "execution_count": 116,
     "metadata": {},
     "output_type": "execute_result"
    }
   ],
   "source": [
    "x"
   ]
  },
  {
   "cell_type": "code",
   "execution_count": 117,
   "id": "3cb223ef",
   "metadata": {},
   "outputs": [],
   "source": [
    "xz=slice(4)"
   ]
  },
  {
   "cell_type": "code",
   "execution_count": 118,
   "id": "bc744fda",
   "metadata": {},
   "outputs": [
    {
     "name": "stdout",
     "output_type": "stream",
     "text": [
      "abhi\n"
     ]
    }
   ],
   "source": [
    "print(x[xz])"
   ]
  },
  {
   "cell_type": "code",
   "execution_count": 122,
   "id": "7aca70c8",
   "metadata": {},
   "outputs": [],
   "source": [
    "love = list(\"iloveyouchinu\")"
   ]
  },
  {
   "cell_type": "code",
   "execution_count": 123,
   "id": "f0967c32",
   "metadata": {},
   "outputs": [
    {
     "data": {
      "text/plain": [
       "['i', 'l', 'o', 'v', 'e', 'y', 'o', 'u', 'c', 'h', 'i', 'n', 'u']"
      ]
     },
     "execution_count": 123,
     "metadata": {},
     "output_type": "execute_result"
    }
   ],
   "source": [
    "love"
   ]
  },
  {
   "cell_type": "code",
   "execution_count": 124,
   "id": "473c47ac",
   "metadata": {},
   "outputs": [
    {
     "name": "stdout",
     "output_type": "stream",
     "text": [
      "['c', 'h', 'i', 'n', 'u']\n"
     ]
    }
   ],
   "source": [
    "iwant = slice(8,13,1)\n",
    "print(love[iwant])"
   ]
  },
  {
   "cell_type": "code",
   "execution_count": 31,
   "id": "923866de",
   "metadata": {},
   "outputs": [],
   "source": [
    "t1 = (2,3,4,5,6,5)"
   ]
  },
  {
   "cell_type": "code",
   "execution_count": 32,
   "id": "36845284",
   "metadata": {},
   "outputs": [
    {
     "data": {
      "text/plain": [
       "(2, 3, 4, 5, 6, 5)"
      ]
     },
     "execution_count": 32,
     "metadata": {},
     "output_type": "execute_result"
    }
   ],
   "source": [
    "t1"
   ]
  },
  {
   "cell_type": "code",
   "execution_count": 33,
   "id": "5d693532",
   "metadata": {},
   "outputs": [
    {
     "data": {
      "text/plain": [
       "tuple"
      ]
     },
     "execution_count": 33,
     "metadata": {},
     "output_type": "execute_result"
    }
   ],
   "source": [
    "type(t1)"
   ]
  },
  {
   "cell_type": "code",
   "execution_count": 34,
   "id": "c5a5f3be",
   "metadata": {},
   "outputs": [
    {
     "name": "stdout",
     "output_type": "stream",
     "text": [
      "2\n",
      "3\n",
      "4\n",
      "5\n",
      "6\n",
      "5\n"
     ]
    }
   ],
   "source": [
    "for i in t1:\n",
    "    print(i)"
   ]
  },
  {
   "cell_type": "code",
   "execution_count": 146,
   "id": "7ea4958d",
   "metadata": {},
   "outputs": [
    {
     "data": {
      "text/plain": [
       "1"
      ]
     },
     "execution_count": 146,
     "metadata": {},
     "output_type": "execute_result"
    }
   ],
   "source": [
    "t1.count(2)"
   ]
  },
  {
   "cell_type": "code",
   "execution_count": 147,
   "id": "1e8910fe",
   "metadata": {},
   "outputs": [
    {
     "data": {
      "text/plain": [
       "6"
      ]
     },
     "execution_count": 147,
     "metadata": {},
     "output_type": "execute_result"
    }
   ],
   "source": [
    "len(t1)"
   ]
  },
  {
   "cell_type": "code",
   "execution_count": 149,
   "id": "6a50d2d0",
   "metadata": {},
   "outputs": [
    {
     "data": {
      "text/plain": [
       "1"
      ]
     },
     "execution_count": 149,
     "metadata": {},
     "output_type": "execute_result"
    }
   ],
   "source": [
    "t1.index(3)"
   ]
  },
  {
   "cell_type": "code",
   "execution_count": 150,
   "id": "43a825f7",
   "metadata": {},
   "outputs": [],
   "source": [
    "set1 = {1,2,3,4,55,55}"
   ]
  },
  {
   "cell_type": "code",
   "execution_count": 151,
   "id": "cafe05c2",
   "metadata": {},
   "outputs": [
    {
     "data": {
      "text/plain": [
       "{1, 2, 3, 4, 55}"
      ]
     },
     "execution_count": 151,
     "metadata": {},
     "output_type": "execute_result"
    }
   ],
   "source": [
    "set1"
   ]
  },
  {
   "cell_type": "code",
   "execution_count": 156,
   "id": "96d0943c",
   "metadata": {},
   "outputs": [],
   "source": [
    "x= set(list1)"
   ]
  },
  {
   "cell_type": "code",
   "execution_count": 157,
   "id": "f625ff59",
   "metadata": {},
   "outputs": [
    {
     "data": {
      "text/plain": [
       "{11, 12, 13, 14}"
      ]
     },
     "execution_count": 157,
     "metadata": {},
     "output_type": "execute_result"
    }
   ],
   "source": [
    "x"
   ]
  },
  {
   "cell_type": "code",
   "execution_count": 158,
   "id": "3c491811",
   "metadata": {},
   "outputs": [
    {
     "data": {
      "text/plain": [
       "set"
      ]
     },
     "execution_count": 158,
     "metadata": {},
     "output_type": "execute_result"
    }
   ],
   "source": [
    "type(x)"
   ]
  },
  {
   "cell_type": "code",
   "execution_count": 159,
   "id": "33b5cb9b",
   "metadata": {},
   "outputs": [],
   "source": [
    "set1.add(69)"
   ]
  },
  {
   "cell_type": "code",
   "execution_count": 160,
   "id": "7dc4c31a",
   "metadata": {},
   "outputs": [
    {
     "data": {
      "text/plain": [
       "{1, 2, 3, 4, 55, 69}"
      ]
     },
     "execution_count": 160,
     "metadata": {},
     "output_type": "execute_result"
    }
   ],
   "source": [
    "set1"
   ]
  },
  {
   "cell_type": "code",
   "execution_count": 165,
   "id": "eb59af98",
   "metadata": {},
   "outputs": [],
   "source": [
    "set1.update(\"abh\")"
   ]
  },
  {
   "cell_type": "code",
   "execution_count": 166,
   "id": "38b0d44d",
   "metadata": {},
   "outputs": [
    {
     "data": {
      "text/plain": [
       "{1, '1', 2, 3, 4, 55, 69, 'a', 'b', 'c', 'h', 'i', 'n', 'u'}"
      ]
     },
     "execution_count": 166,
     "metadata": {},
     "output_type": "execute_result"
    }
   ],
   "source": [
    "set1"
   ]
  },
  {
   "cell_type": "code",
   "execution_count": 167,
   "id": "4347f280",
   "metadata": {},
   "outputs": [],
   "source": [
    "set1.add(\"abhu\")"
   ]
  },
  {
   "cell_type": "code",
   "execution_count": null,
   "id": "a0facb76",
   "metadata": {},
   "outputs": [],
   "source": []
  }
 ],
 "metadata": {
  "kernelspec": {
   "display_name": "Python 3 (ipykernel)",
   "language": "python",
   "name": "python3"
  },
  "language_info": {
   "codemirror_mode": {
    "name": "ipython",
    "version": 3
   },
   "file_extension": ".py",
   "mimetype": "text/x-python",
   "name": "python",
   "nbconvert_exporter": "python",
   "pygments_lexer": "ipython3",
   "version": "3.11.5"
  }
 },
 "nbformat": 4,
 "nbformat_minor": 5
}
