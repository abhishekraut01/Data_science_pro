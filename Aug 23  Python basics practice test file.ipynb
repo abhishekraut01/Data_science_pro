{
 "cells": [
  {
   "cell_type": "markdown",
   "id": "a28390b7",
   "metadata": {},
   "source": [
    "# String Based Assignment Problem"
   ]
  },
  {
   "cell_type": "code",
   "execution_count": 4,
   "id": "cc3120c5",
   "metadata": {},
   "outputs": [],
   "source": [
    "\n",
    "\n",
    "\n",
    "# 6. Count the number of consonants in a string.\n",
    "# 7. Remove all whitespaces from a string.\n",
    "# 8. Find the length of a string without using the `len()` function.\n",
    "# 9. Check if a string contains a specific word.\n",
    "# 10. Replace a word in a string with another word.\n",
    "# 11. Count the occurrences of a word in a string.\n",
    "# 12. Find the first occurrence of a word in a string.\n",
    "# 13. Find the last occurrence of a word in a string.\n",
    "# 14. Split a string into a list of words.\n",
    "# 15. Join a list of words into a string.\n",
    "\n"
   ]
  },
  {
   "cell_type": "code",
   "execution_count": 6,
   "id": "aaad2f57",
   "metadata": {},
   "outputs": [
    {
     "name": "stdout",
     "output_type": "stream",
     "text": [
      "Reversed String is : kehsihba\n"
     ]
    }
   ],
   "source": [
    "# 1 Write a program to reverse a string.\n",
    "string = \"abhishek\"\n",
    "print(f\"Reversed String is : {string[::-1]}\")\n"
   ]
  },
  {
   "cell_type": "code",
   "execution_count": 8,
   "id": "2d48c85a",
   "metadata": {},
   "outputs": [
    {
     "name": "stdout",
     "output_type": "stream",
     "text": [
      "Enter the String please :co oc\n",
      "co oc is palindrome\n"
     ]
    }
   ],
   "source": [
    "# 2. Check if a string is a palindrome.\n",
    "\n",
    "def check_palindrome(user_input:str):\n",
    "    clean_str = ''.join(user_input.split())\n",
    "    if(clean_str == clean_str[::-1]):\n",
    "        return f'{user_input} is palindrome'\n",
    "    else:\n",
    "        return f'{user_input} is not palindrome'\n",
    "    \n",
    "user_input = str(input(\"Enter the String please :\"))\n",
    "print(check_palindrome(user_input))"
   ]
  },
  {
   "cell_type": "code",
   "execution_count": 11,
   "id": "708ca398",
   "metadata": {},
   "outputs": [
    {
     "name": "stdout",
     "output_type": "stream",
     "text": [
      "Enter the String please :abhi\n",
      "ABHI\n"
     ]
    }
   ],
   "source": [
    "# 3. Convert a string to uppercase.\n",
    "    \n",
    "user_input = str(input(\"Enter the String please :\"))\n",
    "print(user_input.upper()) \n"
   ]
  },
  {
   "cell_type": "code",
   "execution_count": 12,
   "id": "f7b7ae0e",
   "metadata": {},
   "outputs": [
    {
     "name": "stdout",
     "output_type": "stream",
     "text": [
      "Enter the String please :AbhI\n",
      "abhi\n"
     ]
    }
   ],
   "source": [
    "# 4. Convert a string to lowercase.\n",
    "user_input = str(input(\"Enter the String please :\"))\n",
    "print(user_input.lower()) \n"
   ]
  },
  {
   "cell_type": "code",
   "execution_count": 20,
   "id": "d1eec544",
   "metadata": {},
   "outputs": [
    {
     "name": "stdout",
     "output_type": "stream",
     "text": [
      "Enter the String please :abhi\n",
      "The total vowels are : 2\n"
     ]
    }
   ],
   "source": [
    "# 5. Count the number of vowels in a string.\n",
    "def Count_vowels(user_input):\n",
    "    vowels_count =0;\n",
    "    vowels = \"aeiouAEIOU\";  \n",
    "    for char in user_input:\n",
    "        if char in vowels:\n",
    "            vowels_count +=1\n",
    "    return vowels_count\n",
    "    \n",
    "    \n",
    "user_input = str(input(\"Enter the String please :\"))\n",
    "print(\"The total vowels are :\",Count_vowels(user_input))"
   ]
  },
  {
   "cell_type": "code",
   "execution_count": null,
   "id": "1db06268",
   "metadata": {},
   "outputs": [],
   "source": []
  }
 ],
 "metadata": {
  "kernelspec": {
   "display_name": "Python 3 (ipykernel)",
   "language": "python",
   "name": "python3"
  },
  "language_info": {
   "codemirror_mode": {
    "name": "ipython",
    "version": 3
   },
   "file_extension": ".py",
   "mimetype": "text/x-python",
   "name": "python",
   "nbconvert_exporter": "python",
   "pygments_lexer": "ipython3",
   "version": "3.11.5"
  }
 },
 "nbformat": 4,
 "nbformat_minor": 5
}
