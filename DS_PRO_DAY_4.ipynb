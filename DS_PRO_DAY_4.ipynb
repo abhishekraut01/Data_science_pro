{
 "cells": [
  {
   "cell_type": "markdown",
   "id": "ab2b0541",
   "metadata": {},
   "source": [
    "# AND NOT OR "
   ]
  },
  {
   "cell_type": "code",
   "execution_count": null,
   "id": "e1af4ce1",
   "metadata": {},
   "outputs": [],
   "source": [
    "a = 10\n",
    "b = 20\n",
    "(a>20) & (b>a)"
   ]
  },
  {
   "cell_type": "code",
   "execution_count": null,
   "id": "dcac1324",
   "metadata": {},
   "outputs": [],
   "source": [
    "(a<20) & (b>a)"
   ]
  },
  {
   "cell_type": "code",
   "execution_count": null,
   "id": "ecaf5f9e",
   "metadata": {},
   "outputs": [],
   "source": [
    "(a>20) | (b>a)"
   ]
  },
  {
   "cell_type": "code",
   "execution_count": null,
   "id": "e1c6ce5a",
   "metadata": {},
   "outputs": [],
   "source": [
    "#AND TRUTH TABLE\n",
    "# 1 1 1\n",
    "# 1 0 0\n",
    "# 0 1 0\n",
    "# 0 0 0"
   ]
  },
  {
   "cell_type": "code",
   "execution_count": null,
   "id": "bf36f27c",
   "metadata": {},
   "outputs": [],
   "source": [
    "x = True"
   ]
  },
  {
   "cell_type": "code",
   "execution_count": null,
   "id": "959580b3",
   "metadata": {},
   "outputs": [],
   "source": [
    "not(x)"
   ]
  },
  {
   "cell_type": "code",
   "execution_count": null,
   "id": "29e17d91",
   "metadata": {},
   "outputs": [],
   "source": [
    "a = 10\n",
    "b = 4"
   ]
  },
  {
   "cell_type": "code",
   "execution_count": null,
   "id": "d9757ab3",
   "metadata": {},
   "outputs": [],
   "source": [
    "bin(a)"
   ]
  },
  {
   "cell_type": "code",
   "execution_count": null,
   "id": "93976104",
   "metadata": {},
   "outputs": [],
   "source": [
    "bin(b)"
   ]
  },
  {
   "cell_type": "code",
   "execution_count": null,
   "id": "29ac5e2f",
   "metadata": {},
   "outputs": [],
   "source": [
    "a & b # ----> bitwise Operator AND OPERATION"
   ]
  },
  {
   "cell_type": "code",
   "execution_count": null,
   "id": "a874596e",
   "metadata": {},
   "outputs": [],
   "source": [
    "a | b"
   ]
  },
  {
   "cell_type": "code",
   "execution_count": null,
   "id": "4c1ecf0d",
   "metadata": {},
   "outputs": [],
   "source": [
    "a^b             # 0 0 0     This is XOR Gate\n",
    "                # 0 1 1\n",
    "                # 1 1 1\n",
    "                # 1 1 0"
   ]
  },
  {
   "cell_type": "code",
   "execution_count": null,
   "id": "3038c7f7",
   "metadata": {},
   "outputs": [],
   "source": [
    "a = -5\n",
    "~a             #  This is negation"
   ]
  },
  {
   "cell_type": "code",
   "execution_count": null,
   "id": "4ac1d74b",
   "metadata": {},
   "outputs": [],
   "source": [
    "x = [1,2,3,4,5]\n",
    "2 in x"
   ]
  },
  {
   "cell_type": "code",
   "execution_count": null,
   "id": "5e3e0b64",
   "metadata": {},
   "outputs": [],
   "source": [
    "a = 10\n",
    "a << 1"
   ]
  },
  {
   "cell_type": "markdown",
   "id": "82a6c135",
   "metadata": {},
   "source": [
    "# Control statements"
   ]
  },
  {
   "cell_type": "code",
   "execution_count": null,
   "id": "96f3d9b9",
   "metadata": {},
   "outputs": [],
   "source": [
    "# if\n",
    "# else\n",
    "# elif\n",
    "\n",
    "T = int(input(\"Enter the value :\"))\n",
    "if(T<0):\n",
    "    print(\"Your input is invalid\")\n",
    "elif(0<=T<=5):\n",
    "    print(\"Night\")\n",
    "elif(6<=T<=11):\n",
    "    print(\"Morning\")\n",
    "elif(12<=T<=17):\n",
    "    print(\"Afternoon\")\n",
    "elif(18<=T<=23):\n",
    "    print(\"Evening\")\n",
    "elif(T>24):\n",
    "    print(\"Invalid\")"
   ]
  },
  {
   "cell_type": "code",
   "execution_count": null,
   "id": "bb6fa38a",
   "metadata": {},
   "outputs": [],
   "source": [
    "num1 = int(input(\"Enter the Num1 :\"))\n",
    "num2 = int(input(\"Enter the Num2 :\"))\n",
    "num3 = int(input(\"Enter the Num3 :\"))\n",
    "\n",
    "if(num1>num2 and num1>num3):\n",
    "    largest = num1\n",
    "    print(f\"{largest} Number is largest\")\n",
    "if(num2>num1 and num2>num3):\n",
    "    largest = num2\n",
    "    print(f\"{largest} Number is largest\")   \n",
    "if(num3>num1 and num3>num2):\n",
    "    largest = num3\n",
    "    print(f\"{largest} Number is largest\")"
   ]
  },
  {
   "cell_type": "code",
   "execution_count": null,
   "id": "fd16f6f6",
   "metadata": {},
   "outputs": [],
   "source": [
    "Op = str(input(\"Choose Operaor + , - , % , *:\"))\n",
    "num1 = int(input(\"Enter the Num1 :\"))\n",
    "num2 = int(input(\"Enter the Num2 :\"))\n",
    "if(Op == \"+\"):\n",
    "    Sum = num1 + num2 \n",
    "    print(f\"{Sum} Is Your Sum\")\n",
    "if(Op == \"-\"):\n",
    "    Sum = num1 - num2 \n",
    "    print(f\"{Sum} Is Your Sub\")\n",
    "if(Op == \"%\"):\n",
    "    Sum = num1/num2 \n",
    "    print(f\"{Sum} Is Your Division\")\n",
    "if(Op == \"*\"):\n",
    "    Sum = num1 * num2 \n",
    "    print(f\"{Sum} Is Your Mul\")"
   ]
  },
  {
   "cell_type": "markdown",
   "id": "f1fbb764",
   "metadata": {},
   "source": [
    "# Range (Start , End-1 , steps)"
   ]
  },
  {
   "cell_type": "code",
   "execution_count": null,
   "id": "60a2d68b",
   "metadata": {},
   "outputs": [],
   "source": [
    "range(0,2)"
   ]
  },
  {
   "cell_type": "code",
   "execution_count": null,
   "id": "0f763285",
   "metadata": {},
   "outputs": [],
   "source": [
    "x = range(0,10)\n",
    "list(x)"
   ]
  },
  {
   "cell_type": "code",
   "execution_count": null,
   "id": "f0e727c4",
   "metadata": {},
   "outputs": [],
   "source": [
    "list(range(3,31,3))"
   ]
  },
  {
   "cell_type": "markdown",
   "id": "e439ace1",
   "metadata": {},
   "source": [
    " # for loops"
   ]
  },
  {
   "cell_type": "code",
   "execution_count": null,
   "id": "71917f88",
   "metadata": {},
   "outputs": [],
   "source": [
    "for i in range(5):\n",
    "    print (i)"
   ]
  },
  {
   "cell_type": "code",
   "execution_count": null,
   "id": "671c12bb",
   "metadata": {},
   "outputs": [],
   "source": [
    "for i in range(11):\n",
    "    print(i*2)"
   ]
  },
  {
   "cell_type": "code",
   "execution_count": null,
   "id": "2c31e420",
   "metadata": {},
   "outputs": [],
   "source": [
    "for i in \"Abhishek\":\n",
    "    print(i)"
   ]
  },
  {
   "cell_type": "code",
   "execution_count": null,
   "id": "7e471e58",
   "metadata": {},
   "outputs": [],
   "source": [
    "for i in 23:\n",
    "    print(i)"
   ]
  },
  {
   "cell_type": "code",
   "execution_count": null,
   "id": "bbef0975",
   "metadata": {},
   "outputs": [],
   "source": [
    "country = [\"india\",\"uk\",\"japan\",\"china\",\"singapor\"]\n",
    "\n",
    "for index in range(len(country)):\n",
    "    print(country[index])"
   ]
  },
  {
   "cell_type": "code",
   "execution_count": null,
   "id": "a4a3e64d",
   "metadata": {},
   "outputs": [],
   "source": [
    "country = [\"india\",\"uk\",\"japan\",\"china\",\"singapor\"]\n",
    "\n",
    "for ct in country:\n",
    "    print(ct)"
   ]
  },
  {
   "cell_type": "code",
   "execution_count": null,
   "id": "845a55f9",
   "metadata": {},
   "outputs": [],
   "source": [
    "dick = {\"name\":\"Abhishek\",\n",
    "        \"love\": \"chinu\",\n",
    "        \"goal\": \"SDE3\"}"
   ]
  },
  {
   "cell_type": "code",
   "execution_count": null,
   "id": "2b69cffd",
   "metadata": {},
   "outputs": [],
   "source": [
    "list(dick.values())"
   ]
  },
  {
   "cell_type": "code",
   "execution_count": null,
   "id": "c30e11fe",
   "metadata": {},
   "outputs": [],
   "source": [
    "list(dick.keys())"
   ]
  },
  {
   "cell_type": "code",
   "execution_count": null,
   "id": "9deb3f16",
   "metadata": {},
   "outputs": [],
   "source": [
    "for key in dick:\n",
    "    print(key,\":\" ,dick[key])"
   ]
  },
  {
   "cell_type": "code",
   "execution_count": null,
   "id": "d7810dd6",
   "metadata": {},
   "outputs": [],
   "source": [
    "for i in range(10):            #outer for loop deciding the rows and inner for loop is responsible for printing the stars\n",
    "    for j in range(i+1):       #now end = ' ' will responsible for new line\n",
    "        print(\" \",end =\"%\")\n",
    "    print( )\n"
   ]
  },
  {
   "cell_type": "code",
   "execution_count": null,
   "id": "9dfa7f6f",
   "metadata": {},
   "outputs": [],
   "source": [
    "for i in range(10,0,-1):            #outer for loop deciding the rows and inner for loop is responsible for printing the stars\n",
    "    for j in range(i,0,-1):       #now end = ' ' will responsible for new line\n",
    "        print(\"*\",end =\" \")\n",
    "    print( )\n"
   ]
  },
  {
   "cell_type": "code",
   "execution_count": 1,
   "id": "dbf81c21",
   "metadata": {},
   "outputs": [
    {
     "name": "stdout",
     "output_type": "stream",
     "text": [
      "1 2 3 4 5 \n",
      "2 4 6 8 10 \n",
      "3 6 9 12 15 \n",
      "4 8 12 16 20 \n",
      "5 10 15 20 25 \n"
     ]
    }
   ],
   "source": [
    "for i in range(1,6):\n",
    "    for j in range():\n",
    "        print(i*j, end = \" \")\n",
    "    print( )"
   ]
  },
  {
   "cell_type": "markdown",
   "id": "92f61f50",
   "metadata": {},
   "source": [
    "age = 0\n",
    "\n",
    "while age != 20:\n",
    "    age = int(input(\"Guess my age :\"))\n",
    "    print(f\"Loda bencho vapas try karr :\")\n",
    "else:\n",
    "    print(f\"congratulation !! You guessed right my age is {age}\")"
   ]
  },
  {
   "cell_type": "code",
   "execution_count": 11,
   "id": "b6d78020",
   "metadata": {},
   "outputs": [
    {
     "name": "stdout",
     "output_type": "stream",
     "text": [
      "Guess my age :33\n",
      "Loda bencho vapas try karr :\n",
      "Guess my age :22\n",
      "Loda bencho vapas try karr :\n",
      "Guess my age :44\n",
      "Loda bencho vapas try karr :\n",
      "Guess my age :20\n",
      "Loda bencho vapas try karr :\n",
      "congratulation !! You guessed right my age is 20\n"
     ]
    }
   ],
   "source": [
    "age = 0\n",
    "\n",
    "while age != 20:\n",
    "    age = int(input(\"Guess my age :\"))\n",
    "    print(f\"Loda bencho vapas try karr :\") \n",
    "else: \n",
    "    print(f\"congratulation !! You guessed right my age is {age}\")"
   ]
  },
  {
   "cell_type": "code",
   "execution_count": 14,
   "id": "4d852d3d",
   "metadata": {},
   "outputs": [
    {
     "name": "stdout",
     "output_type": "stream",
     "text": [
      "helloworld\n"
     ]
    }
   ],
   "source": [
    "def helloworld(str):\n",
    "    print(str)\n",
    "    \n",
    "helloworld(\"helloworld\")"
   ]
  },
  {
   "cell_type": "code",
   "execution_count": null,
   "id": "cf146226",
   "metadata": {},
   "outputs": [],
   "source": []
  }
 ],
 "metadata": {
  "kernelspec": {
   "display_name": "Python 3 (ipykernel)",
   "language": "python",
   "name": "python3"
  },
  "language_info": {
   "codemirror_mode": {
    "name": "ipython",
    "version": 3
   },
   "file_extension": ".py",
   "mimetype": "text/x-python",
   "name": "python",
   "nbconvert_exporter": "python",
   "pygments_lexer": "ipython3",
   "version": "3.11.5"
  }
 },
 "nbformat": 4,
 "nbformat_minor": 5
}
