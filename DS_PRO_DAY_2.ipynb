{
 "cells": [
  {
   "cell_type": "code",
   "execution_count": 1,
   "id": "6785308f",
   "metadata": {},
   "outputs": [],
   "source": [
    "l = []"
   ]
  },
  {
   "cell_type": "code",
   "execution_count": 2,
   "id": "3cd1b6b0",
   "metadata": {},
   "outputs": [
    {
     "data": {
      "text/plain": [
       "list"
      ]
     },
     "execution_count": 2,
     "metadata": {},
     "output_type": "execute_result"
    }
   ],
   "source": [
    "type(l)"
   ]
  },
  {
   "cell_type": "code",
   "execution_count": 3,
   "id": "010d5fd9",
   "metadata": {},
   "outputs": [],
   "source": [
    "l1 = [1,2,3,4,5,\"abhi\",3+5j,44.55,\"Raut\",[2,3,4,5]]"
   ]
  },
  {
   "cell_type": "code",
   "execution_count": 4,
   "id": "081c2274",
   "metadata": {},
   "outputs": [
    {
     "data": {
      "text/plain": [
       "[1, 2, 3, 4, 5, 'abhi', (3+5j), 44.55, 'Raut', [2, 3, 4, 5]]"
      ]
     },
     "execution_count": 4,
     "metadata": {},
     "output_type": "execute_result"
    }
   ],
   "source": [
    "l1"
   ]
  },
  {
   "cell_type": "code",
   "execution_count": 5,
   "id": "1f504322",
   "metadata": {},
   "outputs": [
    {
     "data": {
      "text/plain": [
       "2"
      ]
     },
     "execution_count": 5,
     "metadata": {},
     "output_type": "execute_result"
    }
   ],
   "source": [
    "l1[1]"
   ]
  },
  {
   "cell_type": "code",
   "execution_count": 6,
   "id": "1b507910",
   "metadata": {},
   "outputs": [],
   "source": [
    "l1[1] = 222"
   ]
  },
  {
   "cell_type": "code",
   "execution_count": 7,
   "id": "88ad463f",
   "metadata": {},
   "outputs": [
    {
     "data": {
      "text/plain": [
       "[1, 222, 3, 4, 5, 'abhi', (3+5j), 44.55, 'Raut', [2, 3, 4, 5]]"
      ]
     },
     "execution_count": 7,
     "metadata": {},
     "output_type": "execute_result"
    }
   ],
   "source": [
    "l1"
   ]
  },
  {
   "cell_type": "code",
   "execution_count": 8,
   "id": "9963f2db",
   "metadata": {},
   "outputs": [
    {
     "data": {
      "text/plain": [
       "[2, 3, 4, 5]"
      ]
     },
     "execution_count": 8,
     "metadata": {},
     "output_type": "execute_result"
    }
   ],
   "source": [
    "l1[-1]"
   ]
  },
  {
   "cell_type": "code",
   "execution_count": 9,
   "id": "1f83dc58",
   "metadata": {},
   "outputs": [
    {
     "data": {
      "text/plain": [
       "5"
      ]
     },
     "execution_count": 9,
     "metadata": {},
     "output_type": "execute_result"
    }
   ],
   "source": [
    "l1[-1][3]"
   ]
  },
  {
   "cell_type": "code",
   "execution_count": 10,
   "id": "6b32604d",
   "metadata": {},
   "outputs": [
    {
     "data": {
      "text/plain": [
       "[1, 222, 3, 4, 5]"
      ]
     },
     "execution_count": 10,
     "metadata": {},
     "output_type": "execute_result"
    }
   ],
   "source": [
    "l1[0:5]"
   ]
  },
  {
   "cell_type": "code",
   "execution_count": 11,
   "id": "b56f341d",
   "metadata": {},
   "outputs": [],
   "source": [
    "l2 = [22,33,44,55,66,77,88,99]"
   ]
  },
  {
   "cell_type": "code",
   "execution_count": 12,
   "id": "7d1b971d",
   "metadata": {},
   "outputs": [
    {
     "data": {
      "text/plain": [
       "[1,\n",
       " 222,\n",
       " 3,\n",
       " 4,\n",
       " 5,\n",
       " 'abhi',\n",
       " (3+5j),\n",
       " 44.55,\n",
       " 'Raut',\n",
       " [2, 3, 4, 5],\n",
       " 22,\n",
       " 33,\n",
       " 44,\n",
       " 55,\n",
       " 66,\n",
       " 77,\n",
       " 88,\n",
       " 99]"
      ]
     },
     "execution_count": 12,
     "metadata": {},
     "output_type": "execute_result"
    }
   ],
   "source": [
    "l1+l2"
   ]
  },
  {
   "cell_type": "code",
   "execution_count": 13,
   "id": "2c5fb841",
   "metadata": {},
   "outputs": [],
   "source": [
    "l3 = \"abhishek\""
   ]
  },
  {
   "cell_type": "code",
   "execution_count": 14,
   "id": "c94a6a1a",
   "metadata": {},
   "outputs": [
    {
     "ename": "TypeError",
     "evalue": "can only concatenate list (not \"str\") to list",
     "output_type": "error",
     "traceback": [
      "\u001b[1;31m---------------------------------------------------------------------------\u001b[0m",
      "\u001b[1;31mTypeError\u001b[0m                                 Traceback (most recent call last)",
      "Cell \u001b[1;32mIn[14], line 1\u001b[0m\n\u001b[1;32m----> 1\u001b[0m l1\u001b[38;5;241m+\u001b[39ml2\u001b[38;5;241m+\u001b[39ml3\n",
      "\u001b[1;31mTypeError\u001b[0m: can only concatenate list (not \"str\") to list"
     ]
    }
   ],
   "source": [
    "l1+l2+l3"
   ]
  },
  {
   "cell_type": "code",
   "execution_count": 17,
   "id": "7b2cdce2",
   "metadata": {},
   "outputs": [],
   "source": [
    "l3 = list(l3)"
   ]
  },
  {
   "cell_type": "code",
   "execution_count": 18,
   "id": "738722a0",
   "metadata": {},
   "outputs": [
    {
     "data": {
      "text/plain": [
       "[1,\n",
       " 222,\n",
       " 3,\n",
       " 4,\n",
       " 5,\n",
       " 'abhi',\n",
       " (3+5j),\n",
       " 44.55,\n",
       " 'Raut',\n",
       " [2, 3, 4, 5],\n",
       " 'a',\n",
       " 'b',\n",
       " 'h',\n",
       " 'i',\n",
       " 's',\n",
       " 'h',\n",
       " 'e',\n",
       " 'k']"
      ]
     },
     "execution_count": 18,
     "metadata": {},
     "output_type": "execute_result"
    }
   ],
   "source": [
    "l1+l3"
   ]
  },
  {
   "cell_type": "code",
   "execution_count": 19,
   "id": "88b2916e",
   "metadata": {},
   "outputs": [],
   "source": [
    "t1 = (123,3,4,5,6,5,4,5,6,7,7)"
   ]
  },
  {
   "cell_type": "code",
   "execution_count": 22,
   "id": "afd9456a",
   "metadata": {},
   "outputs": [],
   "source": [
    "convert =list(t1)"
   ]
  },
  {
   "cell_type": "code",
   "execution_count": 23,
   "id": "d7b0236e",
   "metadata": {},
   "outputs": [
    {
     "data": {
      "text/plain": [
       "[123, 3, 4, 5, 6, 5, 4, 5, 6, 7, 7]"
      ]
     },
     "execution_count": 23,
     "metadata": {},
     "output_type": "execute_result"
    }
   ],
   "source": [
    "convert"
   ]
  },
  {
   "cell_type": "code",
   "execution_count": 24,
   "id": "fcb77d6a",
   "metadata": {},
   "outputs": [
    {
     "data": {
      "text/plain": [
       "[123,\n",
       " 3,\n",
       " 4,\n",
       " 5,\n",
       " 6,\n",
       " 5,\n",
       " 4,\n",
       " 5,\n",
       " 6,\n",
       " 7,\n",
       " 7,\n",
       " 1,\n",
       " 222,\n",
       " 3,\n",
       " 4,\n",
       " 5,\n",
       " 'abhi',\n",
       " (3+5j),\n",
       " 44.55,\n",
       " 'Raut',\n",
       " [2, 3, 4, 5]]"
      ]
     },
     "execution_count": 24,
     "metadata": {},
     "output_type": "execute_result"
    }
   ],
   "source": [
    "convert+l1"
   ]
  },
  {
   "cell_type": "code",
   "execution_count": 25,
   "id": "2f983fa2",
   "metadata": {},
   "outputs": [
    {
     "data": {
      "text/plain": [
       "10"
      ]
     },
     "execution_count": 25,
     "metadata": {},
     "output_type": "execute_result"
    }
   ],
   "source": [
    "len(l1)"
   ]
  },
  {
   "cell_type": "code",
   "execution_count": 26,
   "id": "7906567e",
   "metadata": {},
   "outputs": [
    {
     "data": {
      "text/plain": [
       "11"
      ]
     },
     "execution_count": 26,
     "metadata": {},
     "output_type": "execute_result"
    }
   ],
   "source": [
    "len(t1)"
   ]
  },
  {
   "cell_type": "code",
   "execution_count": 27,
   "id": "1a69d80e",
   "metadata": {},
   "outputs": [],
   "source": [
    "s = {1,2,3,4,4,5,5,5,5} #set always store different element"
   ]
  },
  {
   "cell_type": "code",
   "execution_count": 28,
   "id": "a7c2a65a",
   "metadata": {},
   "outputs": [
    {
     "data": {
      "text/plain": [
       "{1, 2, 3, 4, 5}"
      ]
     },
     "execution_count": 28,
     "metadata": {},
     "output_type": "execute_result"
    }
   ],
   "source": [
    "s"
   ]
  },
  {
   "cell_type": "code",
   "execution_count": 29,
   "id": "49341ba3",
   "metadata": {},
   "outputs": [],
   "source": [
    "#python is case sensitive language so Abhi and abhi is diffrent\n",
    "s1 = {'abhi','Abhi','abhi',1,2,3,4,55,66,77,77,88,88,9}"
   ]
  },
  {
   "cell_type": "code",
   "execution_count": 30,
   "id": "db3f6965",
   "metadata": {},
   "outputs": [
    {
     "data": {
      "text/plain": [
       "{1, 2, 3, 4, 55, 66, 77, 88, 9, 'Abhi', 'abhi'}"
      ]
     },
     "execution_count": 30,
     "metadata": {},
     "output_type": "execute_result"
    }
   ],
   "source": [
    "s1"
   ]
  },
  {
   "cell_type": "code",
   "execution_count": 31,
   "id": "9a986db2",
   "metadata": {},
   "outputs": [
    {
     "data": {
      "text/plain": [
       "set"
      ]
     },
     "execution_count": 31,
     "metadata": {},
     "output_type": "execute_result"
    }
   ],
   "source": [
    "type(s1)"
   ]
  },
  {
   "cell_type": "code",
   "execution_count": 32,
   "id": "96df1b29",
   "metadata": {},
   "outputs": [
    {
     "data": {
      "text/plain": [
       "[1, 2, 3, 4, 66, 9, 77, 'abhi', 'Abhi', 55, 88]"
      ]
     },
     "execution_count": 32,
     "metadata": {},
     "output_type": "execute_result"
    }
   ],
   "source": [
    "list(s1)"
   ]
  },
  {
   "cell_type": "code",
   "execution_count": 34,
   "id": "8ee75329",
   "metadata": {},
   "outputs": [
    {
     "data": {
      "text/plain": [
       "[1, 222, 3, 4, 5, 'abhi', (3+5j), 44.55, 'Raut', [2, 3, 4, 5]]"
      ]
     },
     "execution_count": 34,
     "metadata": {},
     "output_type": "execute_result"
    }
   ],
   "source": [
    "l1"
   ]
  },
  {
   "cell_type": "code",
   "execution_count": 35,
   "id": "e223d5e7",
   "metadata": {},
   "outputs": [
    {
     "ename": "TypeError",
     "evalue": "unhashable type: 'list'",
     "output_type": "error",
     "traceback": [
      "\u001b[1;31m---------------------------------------------------------------------------\u001b[0m",
      "\u001b[1;31mTypeError\u001b[0m                                 Traceback (most recent call last)",
      "Cell \u001b[1;32mIn[35], line 1\u001b[0m\n\u001b[1;32m----> 1\u001b[0m \u001b[38;5;28mset\u001b[39m(l1)\n",
      "\u001b[1;31mTypeError\u001b[0m: unhashable type: 'list'"
     ]
    }
   ],
   "source": [
    "set(l1)"
   ]
  },
  {
   "cell_type": "code",
   "execution_count": 36,
   "id": "188e290b",
   "metadata": {},
   "outputs": [
    {
     "data": {
      "text/plain": [
       "(1, 2, 3, 4, 66, 9, 77, 'abhi', 'Abhi', 55, 88)"
      ]
     },
     "execution_count": 36,
     "metadata": {},
     "output_type": "execute_result"
    }
   ],
   "source": [
    "tuple(s1)"
   ]
  },
  {
   "cell_type": "code",
   "execution_count": 37,
   "id": "14aca162",
   "metadata": {},
   "outputs": [
    {
     "data": {
      "text/plain": [
       "{1, 2, 3, 4, 55, 66, 77, 88, 9, 'Abhi', 'abhi'}"
      ]
     },
     "execution_count": 37,
     "metadata": {},
     "output_type": "execute_result"
    }
   ],
   "source": [
    "s1"
   ]
  },
  {
   "cell_type": "code",
   "execution_count": 38,
   "id": "f50ee050",
   "metadata": {
    "scrolled": false
   },
   "outputs": [
    {
     "ename": "TypeError",
     "evalue": "'set' object is not subscriptable",
     "output_type": "error",
     "traceback": [
      "\u001b[1;31m---------------------------------------------------------------------------\u001b[0m",
      "\u001b[1;31mTypeError\u001b[0m                                 Traceback (most recent call last)",
      "Cell \u001b[1;32mIn[38], line 1\u001b[0m\n\u001b[1;32m----> 1\u001b[0m s1[\u001b[38;5;241m0\u001b[39m]\n",
      "\u001b[1;31mTypeError\u001b[0m: 'set' object is not subscriptable"
     ]
    }
   ],
   "source": [
    "s1[0]\n",
    "# subscriptable means indexing the data"
   ]
  },
  {
   "cell_type": "code",
   "execution_count": 39,
   "id": "49d39de7",
   "metadata": {},
   "outputs": [
    {
     "data": {
      "text/plain": [
       "1"
      ]
     },
     "execution_count": 39,
     "metadata": {},
     "output_type": "execute_result"
    }
   ],
   "source": [
    "s1.pop()"
   ]
  },
  {
   "cell_type": "code",
   "execution_count": 40,
   "id": "f5308f64",
   "metadata": {},
   "outputs": [
    {
     "data": {
      "text/plain": [
       "{2, 3, 4, 55, 66, 77, 88, 9, 'Abhi', 'abhi'}"
      ]
     },
     "execution_count": 40,
     "metadata": {},
     "output_type": "execute_result"
    }
   ],
   "source": [
    "s1"
   ]
  },
  {
   "cell_type": "code",
   "execution_count": 41,
   "id": "e86c9a13",
   "metadata": {},
   "outputs": [
    {
     "data": {
      "text/plain": [
       "2"
      ]
     },
     "execution_count": 41,
     "metadata": {},
     "output_type": "execute_result"
    }
   ],
   "source": [
    "s1.pop()"
   ]
  },
  {
   "cell_type": "code",
   "execution_count": 42,
   "id": "bfce04cf",
   "metadata": {},
   "outputs": [],
   "source": [
    "#dictionaries in python contain key value pairs\n",
    "d1 = {'name' : 'Abhishek','subject':'python'}"
   ]
  },
  {
   "cell_type": "code",
   "execution_count": 43,
   "id": "0470a4a8",
   "metadata": {},
   "outputs": [
    {
     "data": {
      "text/plain": [
       "{'name': 'Abhishek', 'subject': 'python'}"
      ]
     },
     "execution_count": 43,
     "metadata": {},
     "output_type": "execute_result"
    }
   ],
   "source": [
    "d1"
   ]
  },
  {
   "cell_type": "code",
   "execution_count": 48,
   "id": "4ac98577",
   "metadata": {},
   "outputs": [
    {
     "data": {
      "text/plain": [
       "dict_values(['Abhishek', 'python'])"
      ]
     },
     "execution_count": 48,
     "metadata": {},
     "output_type": "execute_result"
    }
   ],
   "source": [
    "d1.values() #key should be unique"
   ]
  },
  {
   "cell_type": "code",
   "execution_count": 50,
   "id": "919b8228",
   "metadata": {},
   "outputs": [
    {
     "data": {
      "text/plain": [
       "dict_keys(['name', 'subject'])"
      ]
     },
     "execution_count": 50,
     "metadata": {},
     "output_type": "execute_result"
    }
   ],
   "source": [
    "d1.keys() #keys are equivalent to indexes and this can not be repeated"
   ]
  },
  {
   "cell_type": "code",
   "execution_count": 53,
   "id": "0585358b",
   "metadata": {},
   "outputs": [
    {
     "ename": "TypeError",
     "evalue": "unhashable type: 'list'",
     "output_type": "error",
     "traceback": [
      "\u001b[1;31m---------------------------------------------------------------------------\u001b[0m",
      "\u001b[1;31mTypeError\u001b[0m                                 Traceback (most recent call last)",
      "Cell \u001b[1;32mIn[53], line 1\u001b[0m\n\u001b[1;32m----> 1\u001b[0m d3 \u001b[38;5;241m=\u001b[39m {\u001b[38;5;241m12343\u001b[39m:\u001b[38;5;124m'\u001b[39m\u001b[38;5;124mansh\u001b[39m\u001b[38;5;124m'\u001b[39m,[\u001b[38;5;241m2\u001b[39m,\u001b[38;5;241m2\u001b[39m,\u001b[38;5;241m3\u001b[39m]:\u001b[38;5;124m'\u001b[39m\u001b[38;5;124mabhishek\u001b[39m\u001b[38;5;124m'\u001b[39m}\n",
      "\u001b[1;31mTypeError\u001b[0m: unhashable type: 'list'"
     ]
    }
   ],
   "source": [
    "d3 = {12343:'ansh',[2,2,3]:'abhishek'}"
   ]
  },
  {
   "cell_type": "code",
   "execution_count": 54,
   "id": "e2a4a894",
   "metadata": {},
   "outputs": [
    {
     "ename": "TypeError",
     "evalue": "unhashable type: 'set'",
     "output_type": "error",
     "traceback": [
      "\u001b[1;31m---------------------------------------------------------------------------\u001b[0m",
      "\u001b[1;31mTypeError\u001b[0m                                 Traceback (most recent call last)",
      "Cell \u001b[1;32mIn[54], line 1\u001b[0m\n\u001b[1;32m----> 1\u001b[0m d3 \u001b[38;5;241m=\u001b[39m {\u001b[38;5;241m12343\u001b[39m:\u001b[38;5;124m'\u001b[39m\u001b[38;5;124mansh\u001b[39m\u001b[38;5;124m'\u001b[39m,{\u001b[38;5;241m2\u001b[39m,\u001b[38;5;241m2\u001b[39m,\u001b[38;5;241m3\u001b[39m}:\u001b[38;5;124m'\u001b[39m\u001b[38;5;124mabhishek\u001b[39m\u001b[38;5;124m'\u001b[39m}\n",
      "\u001b[1;31mTypeError\u001b[0m: unhashable type: 'set'"
     ]
    }
   ],
   "source": [
    "d3 = {12343:'ansh',{2,2,3}:'abhishek'}"
   ]
  },
  {
   "cell_type": "code",
   "execution_count": 55,
   "id": "d0707a32",
   "metadata": {},
   "outputs": [
    {
     "ename": "SyntaxError",
     "evalue": "invalid syntax (3854169400.py, line 1)",
     "output_type": "error",
     "traceback": [
      "\u001b[1;36m  Cell \u001b[1;32mIn[55], line 1\u001b[1;36m\u001b[0m\n\u001b[1;33m    d3 = {%12343:'ansh',[2,2,3]:'abhishek'}\u001b[0m\n\u001b[1;37m          ^\u001b[0m\n\u001b[1;31mSyntaxError\u001b[0m\u001b[1;31m:\u001b[0m invalid syntax\n"
     ]
    }
   ],
   "source": [
    "d3 = {%12343:'ansh',[2,2,3]:'abhishek'}"
   ]
  },
  {
   "cell_type": "code",
   "execution_count": 56,
   "id": "d4313b5d",
   "metadata": {},
   "outputs": [],
   "source": [
    "d3 = {12343:'ansh','name':'abhishek'}\n"
   ]
  },
  {
   "cell_type": "code",
   "execution_count": 57,
   "id": "aa34fb11",
   "metadata": {},
   "outputs": [
    {
     "data": {
      "text/plain": [
       "{12343: 'ansh', 'name': 'abhishek'}"
      ]
     },
     "execution_count": 57,
     "metadata": {},
     "output_type": "execute_result"
    }
   ],
   "source": [
    "d3"
   ]
  },
  {
   "cell_type": "code",
   "execution_count": 58,
   "id": "ecb73758",
   "metadata": {},
   "outputs": [],
   "source": [
    "ds = {'course':['dsa','java','dbms','javascript','html','css','js frameworks'],'jobrole':('fullstack devloper','data analyst','ml engineer','app developer')}"
   ]
  },
  {
   "cell_type": "code",
   "execution_count": 59,
   "id": "c9aa7845",
   "metadata": {},
   "outputs": [
    {
     "data": {
      "text/plain": [
       "{'course': ['dsa',\n",
       "  'java',\n",
       "  'dbms',\n",
       "  'javascript',\n",
       "  'html',\n",
       "  'css',\n",
       "  'js frameworks'],\n",
       " 'jobrole': ('fullstack devloper',\n",
       "  'data analyst',\n",
       "  'ml engineer',\n",
       "  'app developer')}"
      ]
     },
     "execution_count": 59,
     "metadata": {},
     "output_type": "execute_result"
    }
   ],
   "source": [
    "ds"
   ]
  },
  {
   "cell_type": "code",
   "execution_count": 60,
   "id": "f2f10bd2",
   "metadata": {},
   "outputs": [
    {
     "data": {
      "text/plain": [
       "dict"
      ]
     },
     "execution_count": 60,
     "metadata": {},
     "output_type": "execute_result"
    }
   ],
   "source": [
    "type(ds)"
   ]
  },
  {
   "cell_type": "code",
   "execution_count": 61,
   "id": "36ea347f",
   "metadata": {},
   "outputs": [
    {
     "data": {
      "text/plain": [
       "dict_values([['dsa', 'java', 'dbms', 'javascript', 'html', 'css', 'js frameworks'], ('fullstack devloper', 'data analyst', 'ml engineer', 'app developer')])"
      ]
     },
     "execution_count": 61,
     "metadata": {},
     "output_type": "execute_result"
    }
   ],
   "source": [
    "ds.values()"
   ]
  },
  {
   "cell_type": "code",
   "execution_count": 63,
   "id": "2ea92220",
   "metadata": {},
   "outputs": [
    {
     "data": {
      "text/plain": [
       "dict_keys(['course', 'jobrole'])"
      ]
     },
     "execution_count": 63,
     "metadata": {},
     "output_type": "execute_result"
    }
   ],
   "source": [
    "ds.keys()"
   ]
  },
  {
   "cell_type": "code",
   "execution_count": 65,
   "id": "d5e922d3",
   "metadata": {},
   "outputs": [
    {
     "data": {
      "text/plain": [
       "['dsa', 'java', 'dbms', 'javascript', 'html', 'css', 'js frameworks']"
      ]
     },
     "execution_count": 65,
     "metadata": {},
     "output_type": "execute_result"
    }
   ],
   "source": [
    "ds['course']"
   ]
  },
  {
   "cell_type": "code",
   "execution_count": 66,
   "id": "f1402434",
   "metadata": {},
   "outputs": [],
   "source": [
    "neww = {'name':'Abhishek'}"
   ]
  },
  {
   "cell_type": "code",
   "execution_count": 67,
   "id": "4c7803c5",
   "metadata": {},
   "outputs": [],
   "source": [
    "neww['job_role']= 'fullstack'"
   ]
  },
  {
   "cell_type": "code",
   "execution_count": 68,
   "id": "abe9bbff",
   "metadata": {},
   "outputs": [
    {
     "data": {
      "text/plain": [
       "{'name': 'Abhishek', 'job_role': 'fullstack'}"
      ]
     },
     "execution_count": 68,
     "metadata": {},
     "output_type": "execute_result"
    }
   ],
   "source": [
    "neww"
   ]
  },
  {
   "cell_type": "code",
   "execution_count": 82,
   "id": "f0573c66",
   "metadata": {},
   "outputs": [],
   "source": [
    "love = 'chinu is my friend'"
   ]
  },
  {
   "cell_type": "code",
   "execution_count": 71,
   "id": "339cef67",
   "metadata": {},
   "outputs": [
    {
     "data": {
      "text/plain": [
       "1"
      ]
     },
     "execution_count": 71,
     "metadata": {},
     "output_type": "execute_result"
    }
   ],
   "source": [
    "love.count('c') #count the values occured"
   ]
  },
  {
   "cell_type": "code",
   "execution_count": 73,
   "id": "bc22795e",
   "metadata": {},
   "outputs": [
    {
     "data": {
      "text/plain": [
       "2"
      ]
     },
     "execution_count": 73,
     "metadata": {},
     "output_type": "execute_result"
    }
   ],
   "source": [
    "love.find('i')  #index of first occurence"
   ]
  },
  {
   "cell_type": "code",
   "execution_count": 76,
   "id": "0c4f537b",
   "metadata": {},
   "outputs": [
    {
     "data": {
      "text/plain": [
       "0"
      ]
     },
     "execution_count": 76,
     "metadata": {},
     "output_type": "execute_result"
    }
   ],
   "source": [
    "love.index('c')"
   ]
  },
  {
   "cell_type": "code",
   "execution_count": 77,
   "id": "117367be",
   "metadata": {},
   "outputs": [
    {
     "data": {
      "text/plain": [
       "'CHINU'"
      ]
     },
     "execution_count": 77,
     "metadata": {},
     "output_type": "execute_result"
    }
   ],
   "source": [
    "love.upper()"
   ]
  },
  {
   "cell_type": "code",
   "execution_count": 79,
   "id": "6e64e9dd",
   "metadata": {},
   "outputs": [
    {
     "data": {
      "text/plain": [
       "'chinu'"
      ]
     },
     "execution_count": 79,
     "metadata": {},
     "output_type": "execute_result"
    }
   ],
   "source": [
    "love.lower()"
   ]
  },
  {
   "cell_type": "code",
   "execution_count": 80,
   "id": "122b57ac",
   "metadata": {},
   "outputs": [
    {
     "data": {
      "text/plain": [
       "'Chinu'"
      ]
     },
     "execution_count": 80,
     "metadata": {},
     "output_type": "execute_result"
    }
   ],
   "source": [
    "love.title() #convert all first letter in capital"
   ]
  },
  {
   "cell_type": "code",
   "execution_count": 87,
   "id": "736f5f0a",
   "metadata": {},
   "outputs": [
    {
     "data": {
      "text/plain": [
       "['ch', 'nu ', 's my fr', 'end']"
      ]
     },
     "execution_count": 87,
     "metadata": {},
     "output_type": "execute_result"
    }
   ],
   "source": [
    "love.split('i')"
   ]
  },
  {
   "cell_type": "code",
   "execution_count": 1,
   "id": "6de5601f",
   "metadata": {},
   "outputs": [],
   "source": [
    "l3 = [1,2,3,4,66,65,64,7,44,8878,100]"
   ]
  },
  {
   "cell_type": "code",
   "execution_count": 3,
   "id": "e688729a",
   "metadata": {},
   "outputs": [],
   "source": [
    "l3.sort()"
   ]
  },
  {
   "cell_type": "code",
   "execution_count": 5,
   "id": "5426d14f",
   "metadata": {},
   "outputs": [
    {
     "data": {
      "text/plain": [
       "[1, 2, 3, 4, 7, 44, 64, 65, 66, 100, 8878]"
      ]
     },
     "execution_count": 5,
     "metadata": {},
     "output_type": "execute_result"
    }
   ],
   "source": [
    "l3"
   ]
  },
  {
   "cell_type": "code",
   "execution_count": 6,
   "id": "6e8a05a3",
   "metadata": {},
   "outputs": [],
   "source": [
    "#Deep copy and sollow copy\n",
    "\n",
    "l0 = [1,2,3,4,5,6,7]\n",
    "l1 = l0"
   ]
  },
  {
   "cell_type": "code",
   "execution_count": 7,
   "id": "83b08363",
   "metadata": {},
   "outputs": [
    {
     "data": {
      "text/plain": [
       "[1, 2, 3, 4, 5, 6, 7]"
      ]
     },
     "execution_count": 7,
     "metadata": {},
     "output_type": "execute_result"
    }
   ],
   "source": [
    "l1"
   ]
  },
  {
   "cell_type": "code",
   "execution_count": 8,
   "id": "500737ea",
   "metadata": {},
   "outputs": [
    {
     "data": {
      "text/plain": [
       "[1, 2, 3, 4, 5, 6, 7]"
      ]
     },
     "execution_count": 8,
     "metadata": {},
     "output_type": "execute_result"
    }
   ],
   "source": [
    "l0"
   ]
  },
  {
   "cell_type": "code",
   "execution_count": 9,
   "id": "5b257d02",
   "metadata": {},
   "outputs": [],
   "source": [
    "l0[0] = 200"
   ]
  },
  {
   "cell_type": "code",
   "execution_count": 10,
   "id": "9bbaad95",
   "metadata": {},
   "outputs": [
    {
     "data": {
      "text/plain": [
       "[200, 2, 3, 4, 5, 6, 7]"
      ]
     },
     "execution_count": 10,
     "metadata": {},
     "output_type": "execute_result"
    }
   ],
   "source": [
    "l0"
   ]
  },
  {
   "cell_type": "code",
   "execution_count": 11,
   "id": "119bac60",
   "metadata": {},
   "outputs": [
    {
     "data": {
      "text/plain": [
       "[200, 2, 3, 4, 5, 6, 7]"
      ]
     },
     "execution_count": 11,
     "metadata": {},
     "output_type": "execute_result"
    }
   ],
   "source": [
    "l1"
   ]
  },
  {
   "cell_type": "code",
   "execution_count": 13,
   "id": "35942c1f",
   "metadata": {},
   "outputs": [],
   "source": [
    "#we created l0 first and list is created in stack and l0 point towards the list\n",
    "#and then we do l1 = l0 now l1 is also pointing towards same list because of these \n",
    "#change done in l0 will also reflected in l1"
   ]
  },
  {
   "cell_type": "code",
   "execution_count": 14,
   "id": "095fe856",
   "metadata": {},
   "outputs": [],
   "source": [
    "l2 = l0.copy()"
   ]
  },
  {
   "cell_type": "code",
   "execution_count": 15,
   "id": "7b6e1689",
   "metadata": {},
   "outputs": [
    {
     "data": {
      "text/plain": [
       "[200, 2, 3, 4, 5, 6, 7]"
      ]
     },
     "execution_count": 15,
     "metadata": {},
     "output_type": "execute_result"
    }
   ],
   "source": [
    "l2"
   ]
  },
  {
   "cell_type": "code",
   "execution_count": 16,
   "id": "e3f253b5",
   "metadata": {},
   "outputs": [],
   "source": [
    "l0[2] = 6969696"
   ]
  },
  {
   "cell_type": "code",
   "execution_count": 17,
   "id": "68325df6",
   "metadata": {},
   "outputs": [
    {
     "data": {
      "text/plain": [
       "[200, 2, 6969696, 4, 5, 6, 7]"
      ]
     },
     "execution_count": 17,
     "metadata": {},
     "output_type": "execute_result"
    }
   ],
   "source": [
    "l0"
   ]
  },
  {
   "cell_type": "code",
   "execution_count": 18,
   "id": "b416d38d",
   "metadata": {},
   "outputs": [
    {
     "data": {
      "text/plain": [
       "[200, 2, 3, 4, 5, 6, 7]"
      ]
     },
     "execution_count": 18,
     "metadata": {},
     "output_type": "execute_result"
    }
   ],
   "source": [
    "l2"
   ]
  },
  {
   "cell_type": "code",
   "execution_count": 19,
   "id": "f9e36d12",
   "metadata": {},
   "outputs": [
    {
     "data": {
      "text/plain": [
       "7"
      ]
     },
     "execution_count": 19,
     "metadata": {},
     "output_type": "execute_result"
    }
   ],
   "source": [
    "l2.pop()"
   ]
  },
  {
   "cell_type": "code",
   "execution_count": 20,
   "id": "eb99daab",
   "metadata": {},
   "outputs": [
    {
     "data": {
      "text/plain": [
       "200"
      ]
     },
     "execution_count": 20,
     "metadata": {},
     "output_type": "execute_result"
    }
   ],
   "source": [
    "l2.pop(0)"
   ]
  },
  {
   "cell_type": "code",
   "execution_count": 21,
   "id": "ef59d17e",
   "metadata": {},
   "outputs": [
    {
     "data": {
      "text/plain": [
       "[2, 3, 4, 5, 6]"
      ]
     },
     "execution_count": 21,
     "metadata": {},
     "output_type": "execute_result"
    }
   ],
   "source": [
    "l2"
   ]
  },
  {
   "cell_type": "code",
   "execution_count": 22,
   "id": "6c9be6fa",
   "metadata": {},
   "outputs": [],
   "source": [
    "s = set(l2)"
   ]
  },
  {
   "cell_type": "code",
   "execution_count": 23,
   "id": "fe798fad",
   "metadata": {},
   "outputs": [
    {
     "data": {
      "text/plain": [
       "{2, 3, 4, 5, 6}"
      ]
     },
     "execution_count": 23,
     "metadata": {},
     "output_type": "execute_result"
    }
   ],
   "source": [
    "s"
   ]
  },
  {
   "cell_type": "code",
   "execution_count": 24,
   "id": "9dcf6bbf",
   "metadata": {},
   "outputs": [
    {
     "data": {
      "text/plain": [
       "2"
      ]
     },
     "execution_count": 24,
     "metadata": {},
     "output_type": "execute_result"
    }
   ],
   "source": [
    "s.pop()"
   ]
  },
  {
   "cell_type": "code",
   "execution_count": 25,
   "id": "09c86041",
   "metadata": {},
   "outputs": [],
   "source": [
    "str = 'Abhishek'"
   ]
  },
  {
   "cell_type": "code",
   "execution_count": 28,
   "id": "450dcb9d",
   "metadata": {},
   "outputs": [
    {
     "data": {
      "text/plain": [
       "'ABHISHEK'"
      ]
     },
     "execution_count": 28,
     "metadata": {},
     "output_type": "execute_result"
    }
   ],
   "source": [
    "str.upper()"
   ]
  },
  {
   "cell_type": "code",
   "execution_count": null,
   "id": "b710bd42",
   "metadata": {},
   "outputs": [],
   "source": []
  }
 ],
 "metadata": {
  "kernelspec": {
   "display_name": "Python 3 (ipykernel)",
   "language": "python",
   "name": "python3"
  },
  "language_info": {
   "codemirror_mode": {
    "name": "ipython",
    "version": 3
   },
   "file_extension": ".py",
   "mimetype": "text/x-python",
   "name": "python",
   "nbconvert_exporter": "python",
   "pygments_lexer": "ipython3",
   "version": "3.11.5"
  }
 },
 "nbformat": 4,
 "nbformat_minor": 5
}
