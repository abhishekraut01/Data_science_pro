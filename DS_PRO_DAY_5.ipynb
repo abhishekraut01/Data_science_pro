{
 "cells": [
  {
   "cell_type": "markdown",
   "id": "6640fabd",
   "metadata": {},
   "source": [
    "# split"
   ]
  },
  {
   "cell_type": "code",
   "execution_count": 4,
   "id": "b7b86815",
   "metadata": {},
   "outputs": [],
   "source": [
    "text = \" Abhishek is passonate \""
   ]
  },
  {
   "cell_type": "code",
   "execution_count": 5,
   "id": "757d4e63",
   "metadata": {},
   "outputs": [
    {
     "data": {
      "text/plain": [
       "['Abhishek', 'is', 'passonate']"
      ]
     },
     "execution_count": 5,
     "metadata": {},
     "output_type": "execute_result"
    }
   ],
   "source": [
    "text.split()"
   ]
  },
  {
   "cell_type": "code",
   "execution_count": 6,
   "id": "4eff768b",
   "metadata": {},
   "outputs": [],
   "source": [
    "word1 , word2 , word3 = text.split()"
   ]
  },
  {
   "cell_type": "code",
   "execution_count": 7,
   "id": "e1a797a3",
   "metadata": {},
   "outputs": [
    {
     "data": {
      "text/plain": [
       "'Abhishek'"
      ]
     },
     "execution_count": 7,
     "metadata": {},
     "output_type": "execute_result"
    }
   ],
   "source": [
    "word1"
   ]
  },
  {
   "cell_type": "code",
   "execution_count": 8,
   "id": "84fd8395",
   "metadata": {},
   "outputs": [
    {
     "data": {
      "text/plain": [
       "'is'"
      ]
     },
     "execution_count": 8,
     "metadata": {},
     "output_type": "execute_result"
    }
   ],
   "source": [
    "word2"
   ]
  },
  {
   "cell_type": "code",
   "execution_count": 9,
   "id": "113be6ca",
   "metadata": {},
   "outputs": [
    {
     "data": {
      "text/plain": [
       "'passonate'"
      ]
     },
     "execution_count": 9,
     "metadata": {},
     "output_type": "execute_result"
    }
   ],
   "source": [
    "word3"
   ]
  },
  {
   "cell_type": "code",
   "execution_count": 18,
   "id": "a83dc9f3",
   "metadata": {},
   "outputs": [
    {
     "name": "stdout",
     "output_type": "stream",
     "text": [
      "enter two numbers seprated by spaces2 3\n",
      "your sum is equal to  5\n"
     ]
    }
   ],
   "source": [
    "a,b = input(\"enter two numbers seprated by spaces\").split()\n",
    "c = int(a)+int(b)\n",
    "print(\"your sum is equal to \",c)"
   ]
  },
  {
   "cell_type": "code",
   "execution_count": null,
   "id": "c1551641",
   "metadata": {},
   "outputs": [],
   "source": []
  },
  {
   "cell_type": "code",
   "execution_count": null,
   "id": "0cc9a64c",
   "metadata": {},
   "outputs": [],
   "source": []
  },
  {
   "cell_type": "code",
   "execution_count": 26,
   "id": "a6eb3094",
   "metadata": {},
   "outputs": [
    {
     "name": "stdout",
     "output_type": "stream",
     "text": [
      "['A', 'B', 'H', 'I', 'S', 'H', 'E K']\n"
     ]
    }
   ],
   "source": [
    "s1 = \"A B H I S H E K\"\n",
    "print(s1.split(' ',6))"
   ]
  },
  {
   "cell_type": "code",
   "execution_count": 27,
   "id": "84219245",
   "metadata": {},
   "outputs": [
    {
     "name": "stdout",
     "output_type": "stream",
     "text": [
      "['C', 'H', 'I', 'N', 'U']\n"
     ]
    }
   ],
   "source": [
    "s2 = \"C*H*I*N*U\"\n",
    "print(s2.split('*',5))"
   ]
  },
  {
   "cell_type": "markdown",
   "id": "4129b022",
   "metadata": {},
   "source": [
    "# Break and continue"
   ]
  },
  {
   "cell_type": "code",
   "execution_count": 36,
   "id": "b391888d",
   "metadata": {},
   "outputs": [
    {
     "name": "stdout",
     "output_type": "stream",
     "text": [
      "= A\n",
      "= b\n",
      "= h\n",
      "= i\n",
      "= s\n",
      "= h\n",
      "= e\n",
      "= k\n"
     ]
    }
   ],
   "source": [
    "for letter in \"Abhishek\":\n",
    "    print( \"=\", letter)"
   ]
  },
  {
   "cell_type": "code",
   "execution_count": 43,
   "id": "5dd2dcff",
   "metadata": {},
   "outputs": [
    {
     "name": "stdout",
     "output_type": "stream",
     "text": [
      "= A\n",
      "= b\n",
      "= h\n"
     ]
    }
   ],
   "source": [
    "for letter in \"Abhishek\":\n",
    "    if(letter == \"i\"):\n",
    "        break\n",
    "    print( \"=\", letter)"
   ]
  },
  {
   "cell_type": "code",
   "execution_count": 45,
   "id": "600df29f",
   "metadata": {},
   "outputs": [
    {
     "name": "stdout",
     "output_type": "stream",
     "text": [
      "0\n",
      "1\n",
      "2\n"
     ]
    }
   ],
   "source": [
    "for value in range(5):\n",
    "    if(value == 3):\n",
    "        break\n",
    "    print(value)"
   ]
  },
  {
   "cell_type": "code",
   "execution_count": 48,
   "id": "a5a8ac27",
   "metadata": {},
   "outputs": [
    {
     "name": "stdout",
     "output_type": "stream",
     "text": [
      "1\n",
      "2\n",
      "3\n",
      "4\n",
      "5\n"
     ]
    }
   ],
   "source": [
    "i = 1\n",
    "\n",
    "while i<=10:\n",
    "    print(i)\n",
    "    \n",
    "    if i>=5:\n",
    "        break\n",
    "    i+=1"
   ]
  },
  {
   "cell_type": "code",
   "execution_count": 50,
   "id": "02812b73",
   "metadata": {
    "collapsed": true
   },
   "outputs": [
    {
     "name": "stdout",
     "output_type": "stream",
     "text": [
      "10\n",
      "20\n",
      "30\n",
      "40\n",
      "50\n"
     ]
    }
   ],
   "source": [
    "num = [10,20,30,40,50,100,60,70]\n",
    "\n",
    "for i in num:\n",
    "    if i>=100:\n",
    "        break\n",
    "    print(i)"
   ]
  },
  {
   "cell_type": "code",
   "execution_count": 57,
   "id": "96f08954",
   "metadata": {
    "collapsed": true
   },
   "outputs": [
    {
     "name": "stdout",
     "output_type": "stream",
     "text": [
      "1\n",
      "3\n",
      "5\n",
      "7\n",
      "9\n"
     ]
    }
   ],
   "source": [
    "for i in range(11):\n",
    "    if i%2 == 0:\n",
    "        continue\n",
    "    print(i)"
   ]
  },
  {
   "cell_type": "code",
   "execution_count": 61,
   "id": "6f73922a",
   "metadata": {},
   "outputs": [],
   "source": [
    "def add(a,b):\n",
    "    return a+b\n",
    "\n",
    "x =add(2,3)"
   ]
  },
  {
   "cell_type": "code",
   "execution_count": 62,
   "id": "ec14eefb",
   "metadata": {},
   "outputs": [
    {
     "data": {
      "text/plain": [
       "5"
      ]
     },
     "execution_count": 62,
     "metadata": {},
     "output_type": "execute_result"
    }
   ],
   "source": [
    "x"
   ]
  },
  {
   "cell_type": "code",
   "execution_count": 63,
   "id": "aa08f741",
   "metadata": {},
   "outputs": [
    {
     "name": "stdout",
     "output_type": "stream",
     "text": [
      "hohoho abhishekraut\n"
     ]
    }
   ],
   "source": [
    "def names(a,b):\n",
    "    print(\"hohoho\",a+b)\n",
    "    \n",
    "names(\"abhishek\",'raut')"
   ]
  },
  {
   "cell_type": "code",
   "execution_count": 64,
   "id": "8e830577",
   "metadata": {},
   "outputs": [
    {
     "name": "stdout",
     "output_type": "stream",
     "text": [
      "30\n"
     ]
    }
   ],
   "source": [
    "def positive(n):\n",
    "    if n>n:\n",
    "        print(n)\n",
    "    else:\n",
    "        print(-n)\n",
    "\n",
    "positive(-30)"
   ]
  },
  {
   "cell_type": "code",
   "execution_count": 66,
   "id": "2dbcf4da",
   "metadata": {},
   "outputs": [
    {
     "name": "stdout",
     "output_type": "stream",
     "text": [
      "abhishekraut\n"
     ]
    }
   ],
   "source": [
    "def names(a,b):\n",
    "    c = a+b\n",
    "    print(c)       #this function is not returning anything\n",
    "    \n",
    "x = names(\"abhishek\",'raut')"
   ]
  },
  {
   "cell_type": "code",
   "execution_count": 68,
   "id": "59d44e3c",
   "metadata": {},
   "outputs": [],
   "source": [
    "x "
   ]
  },
  {
   "cell_type": "code",
   "execution_count": 69,
   "id": "8259fa0f",
   "metadata": {},
   "outputs": [],
   "source": [
    "def names(a,b):\n",
    "    c = a+b\n",
    "    return (c)       #this function is returning c value\n",
    "    \n",
    "x = names(\"abhishek\",'raut')    #now we can store in x variable"
   ]
  },
  {
   "cell_type": "code",
   "execution_count": 70,
   "id": "b3012733",
   "metadata": {},
   "outputs": [
    {
     "data": {
      "text/plain": [
       "'abhishekraut'"
      ]
     },
     "execution_count": 70,
     "metadata": {},
     "output_type": "execute_result"
    }
   ],
   "source": [
    "x"
   ]
  },
  {
   "cell_type": "code",
   "execution_count": 72,
   "id": "c02975f3",
   "metadata": {},
   "outputs": [
    {
     "name": "stdout",
     "output_type": "stream",
     "text": [
      "Enter the first number :3\n",
      "Enter the Second number :4\n"
     ]
    },
    {
     "data": {
      "text/plain": [
       "(7, -1, 12, 0.75)"
      ]
     },
     "execution_count": 72,
     "metadata": {},
     "output_type": "execute_result"
    }
   ],
   "source": [
    "def calculator(a,b):\n",
    "    a = int(input(\"Enter the first number :\"))\n",
    "    b= int(input(\"Enter the Second number :\"))\n",
    "    add = a+b;\n",
    "    sub = a-b\n",
    "    mul = a*b\n",
    "    div = a/b\n",
    "    return add ,sub, mul, div\n",
    "\n",
    "calculator(1,2)"
   ]
  },
  {
   "cell_type": "code",
   "execution_count": 73,
   "id": "7f5cb372",
   "metadata": {},
   "outputs": [],
   "source": [
    "import math"
   ]
  },
  {
   "cell_type": "code",
   "execution_count": 78,
   "id": "c182e040",
   "metadata": {},
   "outputs": [
    {
     "data": {
      "text/plain": [
       "28.26"
      ]
     },
     "execution_count": 78,
     "metadata": {},
     "output_type": "execute_result"
    }
   ],
   "source": [
    "def circle_area (radius):\n",
    "    return radius *radius *3.14\n",
    "\n",
    "circle_area(3)"
   ]
  },
  {
   "cell_type": "code",
   "execution_count": 77,
   "id": "64fc4819",
   "metadata": {},
   "outputs": [
    {
     "data": {
      "text/plain": [
       "12"
      ]
     },
     "execution_count": 77,
     "metadata": {},
     "output_type": "execute_result"
    }
   ],
   "source": [
    "def rectangle_area (l,b):\n",
    "    return  l*b\n",
    "\n",
    "rectangle_area(3,4)"
   ]
  },
  {
   "cell_type": "code",
   "execution_count": null,
   "id": "464b8f07",
   "metadata": {},
   "outputs": [],
   "source": []
  }
 ],
 "metadata": {
  "kernelspec": {
   "display_name": "Python 3 (ipykernel)",
   "language": "python",
   "name": "python3"
  },
  "language_info": {
   "codemirror_mode": {
    "name": "ipython",
    "version": 3
   },
   "file_extension": ".py",
   "mimetype": "text/x-python",
   "name": "python",
   "nbconvert_exporter": "python",
   "pygments_lexer": "ipython3",
   "version": "3.11.5"
  }
 },
 "nbformat": 4,
 "nbformat_minor": 5
}
